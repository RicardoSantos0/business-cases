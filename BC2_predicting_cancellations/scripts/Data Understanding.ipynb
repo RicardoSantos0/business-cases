{
 "cells": [
  {
   "cell_type": "code",
   "execution_count": 1,
   "metadata": {},
   "outputs": [],
   "source": [
    "import os\n",
    "import pandas as pd\n",
    "import matplotlib.pyplot as plt\n",
    "import math as mt\n",
    "import numpy as np\n",
    "import seaborn as sns\n",
    "import plotly.express as px\n",
    "\n",
    "from pathlib import Path\n",
    "PROJECT_ROOT = Path(os.path.abspath('')).resolve().parents[0] "
   ]
  },
  {
   "cell_type": "code",
   "execution_count": 2,
   "metadata": {},
   "outputs": [
    {
     "data": {
      "text/html": [
       "<div>\n",
       "<style scoped>\n",
       "    .dataframe tbody tr th:only-of-type {\n",
       "        vertical-align: middle;\n",
       "    }\n",
       "\n",
       "    .dataframe tbody tr th {\n",
       "        vertical-align: top;\n",
       "    }\n",
       "\n",
       "    .dataframe thead th {\n",
       "        text-align: right;\n",
       "    }\n",
       "</style>\n",
       "<table border=\"1\" class=\"dataframe\">\n",
       "  <thead>\n",
       "    <tr style=\"text-align: right;\">\n",
       "      <th></th>\n",
       "      <th>IsCanceled</th>\n",
       "      <th>LeadTime</th>\n",
       "      <th>ArrivalDateYear</th>\n",
       "      <th>ArrivalDateMonth</th>\n",
       "      <th>ArrivalDateWeekNumber</th>\n",
       "      <th>ArrivalDateDayOfMonth</th>\n",
       "      <th>StaysInWeekendNights</th>\n",
       "      <th>StaysInWeekNights</th>\n",
       "      <th>Adults</th>\n",
       "      <th>Children</th>\n",
       "      <th>...</th>\n",
       "      <th>DepositType</th>\n",
       "      <th>Agent</th>\n",
       "      <th>Company</th>\n",
       "      <th>DaysInWaitingList</th>\n",
       "      <th>CustomerType</th>\n",
       "      <th>ADR</th>\n",
       "      <th>RequiredCarParkingSpaces</th>\n",
       "      <th>TotalOfSpecialRequests</th>\n",
       "      <th>ReservationStatus</th>\n",
       "      <th>ReservationStatusDate</th>\n",
       "    </tr>\n",
       "  </thead>\n",
       "  <tbody>\n",
       "    <tr>\n",
       "      <th>0</th>\n",
       "      <td>0</td>\n",
       "      <td>6</td>\n",
       "      <td>2015</td>\n",
       "      <td>July</td>\n",
       "      <td>27</td>\n",
       "      <td>1</td>\n",
       "      <td>0</td>\n",
       "      <td>2</td>\n",
       "      <td>1</td>\n",
       "      <td>0.0</td>\n",
       "      <td>...</td>\n",
       "      <td>No Deposit</td>\n",
       "      <td>6</td>\n",
       "      <td>NULL</td>\n",
       "      <td>0</td>\n",
       "      <td>Transient</td>\n",
       "      <td>0.00</td>\n",
       "      <td>0</td>\n",
       "      <td>0</td>\n",
       "      <td>Check-Out</td>\n",
       "      <td>2015-07-03</td>\n",
       "    </tr>\n",
       "    <tr>\n",
       "      <th>1</th>\n",
       "      <td>1</td>\n",
       "      <td>88</td>\n",
       "      <td>2015</td>\n",
       "      <td>July</td>\n",
       "      <td>27</td>\n",
       "      <td>1</td>\n",
       "      <td>0</td>\n",
       "      <td>4</td>\n",
       "      <td>2</td>\n",
       "      <td>0.0</td>\n",
       "      <td>...</td>\n",
       "      <td>No Deposit</td>\n",
       "      <td>9</td>\n",
       "      <td>NULL</td>\n",
       "      <td>0</td>\n",
       "      <td>Transient</td>\n",
       "      <td>76.50</td>\n",
       "      <td>0</td>\n",
       "      <td>1</td>\n",
       "      <td>Canceled</td>\n",
       "      <td>2015-07-01</td>\n",
       "    </tr>\n",
       "    <tr>\n",
       "      <th>2</th>\n",
       "      <td>1</td>\n",
       "      <td>65</td>\n",
       "      <td>2015</td>\n",
       "      <td>July</td>\n",
       "      <td>27</td>\n",
       "      <td>1</td>\n",
       "      <td>0</td>\n",
       "      <td>4</td>\n",
       "      <td>1</td>\n",
       "      <td>0.0</td>\n",
       "      <td>...</td>\n",
       "      <td>No Deposit</td>\n",
       "      <td>9</td>\n",
       "      <td>NULL</td>\n",
       "      <td>0</td>\n",
       "      <td>Transient</td>\n",
       "      <td>68.00</td>\n",
       "      <td>0</td>\n",
       "      <td>1</td>\n",
       "      <td>Canceled</td>\n",
       "      <td>2015-04-30</td>\n",
       "    </tr>\n",
       "    <tr>\n",
       "      <th>3</th>\n",
       "      <td>1</td>\n",
       "      <td>92</td>\n",
       "      <td>2015</td>\n",
       "      <td>July</td>\n",
       "      <td>27</td>\n",
       "      <td>1</td>\n",
       "      <td>2</td>\n",
       "      <td>4</td>\n",
       "      <td>2</td>\n",
       "      <td>0.0</td>\n",
       "      <td>...</td>\n",
       "      <td>No Deposit</td>\n",
       "      <td>9</td>\n",
       "      <td>NULL</td>\n",
       "      <td>0</td>\n",
       "      <td>Transient</td>\n",
       "      <td>76.50</td>\n",
       "      <td>0</td>\n",
       "      <td>2</td>\n",
       "      <td>Canceled</td>\n",
       "      <td>2015-06-23</td>\n",
       "    </tr>\n",
       "    <tr>\n",
       "      <th>4</th>\n",
       "      <td>1</td>\n",
       "      <td>100</td>\n",
       "      <td>2015</td>\n",
       "      <td>July</td>\n",
       "      <td>27</td>\n",
       "      <td>2</td>\n",
       "      <td>0</td>\n",
       "      <td>2</td>\n",
       "      <td>2</td>\n",
       "      <td>0.0</td>\n",
       "      <td>...</td>\n",
       "      <td>No Deposit</td>\n",
       "      <td>9</td>\n",
       "      <td>NULL</td>\n",
       "      <td>0</td>\n",
       "      <td>Transient</td>\n",
       "      <td>76.50</td>\n",
       "      <td>0</td>\n",
       "      <td>1</td>\n",
       "      <td>Canceled</td>\n",
       "      <td>2015-04-02</td>\n",
       "    </tr>\n",
       "    <tr>\n",
       "      <th>...</th>\n",
       "      <td>...</td>\n",
       "      <td>...</td>\n",
       "      <td>...</td>\n",
       "      <td>...</td>\n",
       "      <td>...</td>\n",
       "      <td>...</td>\n",
       "      <td>...</td>\n",
       "      <td>...</td>\n",
       "      <td>...</td>\n",
       "      <td>...</td>\n",
       "      <td>...</td>\n",
       "      <td>...</td>\n",
       "      <td>...</td>\n",
       "      <td>...</td>\n",
       "      <td>...</td>\n",
       "      <td>...</td>\n",
       "      <td>...</td>\n",
       "      <td>...</td>\n",
       "      <td>...</td>\n",
       "      <td>...</td>\n",
       "      <td>...</td>\n",
       "    </tr>\n",
       "    <tr>\n",
       "      <th>79325</th>\n",
       "      <td>0</td>\n",
       "      <td>23</td>\n",
       "      <td>2017</td>\n",
       "      <td>August</td>\n",
       "      <td>35</td>\n",
       "      <td>30</td>\n",
       "      <td>2</td>\n",
       "      <td>5</td>\n",
       "      <td>2</td>\n",
       "      <td>0.0</td>\n",
       "      <td>...</td>\n",
       "      <td>No Deposit</td>\n",
       "      <td>394</td>\n",
       "      <td>NULL</td>\n",
       "      <td>0</td>\n",
       "      <td>Transient</td>\n",
       "      <td>96.14</td>\n",
       "      <td>0</td>\n",
       "      <td>0</td>\n",
       "      <td>Check-Out</td>\n",
       "      <td>2017-09-06</td>\n",
       "    </tr>\n",
       "    <tr>\n",
       "      <th>79326</th>\n",
       "      <td>0</td>\n",
       "      <td>102</td>\n",
       "      <td>2017</td>\n",
       "      <td>August</td>\n",
       "      <td>35</td>\n",
       "      <td>31</td>\n",
       "      <td>2</td>\n",
       "      <td>5</td>\n",
       "      <td>3</td>\n",
       "      <td>0.0</td>\n",
       "      <td>...</td>\n",
       "      <td>No Deposit</td>\n",
       "      <td>9</td>\n",
       "      <td>NULL</td>\n",
       "      <td>0</td>\n",
       "      <td>Transient</td>\n",
       "      <td>225.43</td>\n",
       "      <td>0</td>\n",
       "      <td>2</td>\n",
       "      <td>Check-Out</td>\n",
       "      <td>2017-09-07</td>\n",
       "    </tr>\n",
       "    <tr>\n",
       "      <th>79327</th>\n",
       "      <td>0</td>\n",
       "      <td>34</td>\n",
       "      <td>2017</td>\n",
       "      <td>August</td>\n",
       "      <td>35</td>\n",
       "      <td>31</td>\n",
       "      <td>2</td>\n",
       "      <td>5</td>\n",
       "      <td>2</td>\n",
       "      <td>0.0</td>\n",
       "      <td>...</td>\n",
       "      <td>No Deposit</td>\n",
       "      <td>9</td>\n",
       "      <td>NULL</td>\n",
       "      <td>0</td>\n",
       "      <td>Transient</td>\n",
       "      <td>157.71</td>\n",
       "      <td>0</td>\n",
       "      <td>4</td>\n",
       "      <td>Check-Out</td>\n",
       "      <td>2017-09-07</td>\n",
       "    </tr>\n",
       "    <tr>\n",
       "      <th>79328</th>\n",
       "      <td>0</td>\n",
       "      <td>109</td>\n",
       "      <td>2017</td>\n",
       "      <td>August</td>\n",
       "      <td>35</td>\n",
       "      <td>31</td>\n",
       "      <td>2</td>\n",
       "      <td>5</td>\n",
       "      <td>2</td>\n",
       "      <td>0.0</td>\n",
       "      <td>...</td>\n",
       "      <td>No Deposit</td>\n",
       "      <td>89</td>\n",
       "      <td>NULL</td>\n",
       "      <td>0</td>\n",
       "      <td>Transient</td>\n",
       "      <td>104.40</td>\n",
       "      <td>0</td>\n",
       "      <td>0</td>\n",
       "      <td>Check-Out</td>\n",
       "      <td>2017-09-07</td>\n",
       "    </tr>\n",
       "    <tr>\n",
       "      <th>79329</th>\n",
       "      <td>0</td>\n",
       "      <td>205</td>\n",
       "      <td>2017</td>\n",
       "      <td>August</td>\n",
       "      <td>35</td>\n",
       "      <td>29</td>\n",
       "      <td>2</td>\n",
       "      <td>7</td>\n",
       "      <td>2</td>\n",
       "      <td>0.0</td>\n",
       "      <td>...</td>\n",
       "      <td>No Deposit</td>\n",
       "      <td>9</td>\n",
       "      <td>NULL</td>\n",
       "      <td>0</td>\n",
       "      <td>Transient</td>\n",
       "      <td>151.20</td>\n",
       "      <td>0</td>\n",
       "      <td>2</td>\n",
       "      <td>Check-Out</td>\n",
       "      <td>2017-09-07</td>\n",
       "    </tr>\n",
       "  </tbody>\n",
       "</table>\n",
       "<p>79330 rows × 31 columns</p>\n",
       "</div>"
      ],
      "text/plain": [
       "       IsCanceled  LeadTime  ArrivalDateYear ArrivalDateMonth  \\\n",
       "0               0         6             2015             July   \n",
       "1               1        88             2015             July   \n",
       "2               1        65             2015             July   \n",
       "3               1        92             2015             July   \n",
       "4               1       100             2015             July   \n",
       "...           ...       ...              ...              ...   \n",
       "79325           0        23             2017           August   \n",
       "79326           0       102             2017           August   \n",
       "79327           0        34             2017           August   \n",
       "79328           0       109             2017           August   \n",
       "79329           0       205             2017           August   \n",
       "\n",
       "       ArrivalDateWeekNumber  ArrivalDateDayOfMonth  StaysInWeekendNights  \\\n",
       "0                         27                      1                     0   \n",
       "1                         27                      1                     0   \n",
       "2                         27                      1                     0   \n",
       "3                         27                      1                     2   \n",
       "4                         27                      2                     0   \n",
       "...                      ...                    ...                   ...   \n",
       "79325                     35                     30                     2   \n",
       "79326                     35                     31                     2   \n",
       "79327                     35                     31                     2   \n",
       "79328                     35                     31                     2   \n",
       "79329                     35                     29                     2   \n",
       "\n",
       "       StaysInWeekNights  Adults  Children  ...      DepositType        Agent  \\\n",
       "0                      2       1       0.0  ...  No Deposit                 6   \n",
       "1                      4       2       0.0  ...  No Deposit                 9   \n",
       "2                      4       1       0.0  ...  No Deposit                 9   \n",
       "3                      4       2       0.0  ...  No Deposit                 9   \n",
       "4                      2       2       0.0  ...  No Deposit                 9   \n",
       "...                  ...     ...       ...  ...              ...          ...   \n",
       "79325                  5       2       0.0  ...  No Deposit               394   \n",
       "79326                  5       3       0.0  ...  No Deposit                 9   \n",
       "79327                  5       2       0.0  ...  No Deposit                 9   \n",
       "79328                  5       2       0.0  ...  No Deposit                89   \n",
       "79329                  7       2       0.0  ...  No Deposit                 9   \n",
       "\n",
       "           Company DaysInWaitingList CustomerType     ADR  \\\n",
       "0             NULL                 0    Transient    0.00   \n",
       "1             NULL                 0    Transient   76.50   \n",
       "2             NULL                 0    Transient   68.00   \n",
       "3             NULL                 0    Transient   76.50   \n",
       "4             NULL                 0    Transient   76.50   \n",
       "...            ...               ...          ...     ...   \n",
       "79325         NULL                 0    Transient   96.14   \n",
       "79326         NULL                 0    Transient  225.43   \n",
       "79327         NULL                 0    Transient  157.71   \n",
       "79328         NULL                 0    Transient  104.40   \n",
       "79329         NULL                 0    Transient  151.20   \n",
       "\n",
       "       RequiredCarParkingSpaces  TotalOfSpecialRequests ReservationStatus  \\\n",
       "0                             0                       0         Check-Out   \n",
       "1                             0                       1          Canceled   \n",
       "2                             0                       1          Canceled   \n",
       "3                             0                       2          Canceled   \n",
       "4                             0                       1          Canceled   \n",
       "...                         ...                     ...               ...   \n",
       "79325                         0                       0         Check-Out   \n",
       "79326                         0                       2         Check-Out   \n",
       "79327                         0                       4         Check-Out   \n",
       "79328                         0                       0         Check-Out   \n",
       "79329                         0                       2         Check-Out   \n",
       "\n",
       "      ReservationStatusDate  \n",
       "0                2015-07-03  \n",
       "1                2015-07-01  \n",
       "2                2015-04-30  \n",
       "3                2015-06-23  \n",
       "4                2015-04-02  \n",
       "...                     ...  \n",
       "79325            2017-09-06  \n",
       "79326            2017-09-07  \n",
       "79327            2017-09-07  \n",
       "79328            2017-09-07  \n",
       "79329            2017-09-07  \n",
       "\n",
       "[79330 rows x 31 columns]"
      ]
     },
     "execution_count": 2,
     "metadata": {},
     "output_type": "execute_result"
    }
   ],
   "source": [
    "df = pd.read_csv(os.path.join(PROJECT_ROOT, 'data', 'H2.csv'))\n",
    "df"
   ]
  },
  {
   "cell_type": "code",
   "execution_count": 3,
   "metadata": {},
   "outputs": [],
   "source": [
    "# Organizar features\n",
    "target = ['IsCanceled']\n",
    "\n",
    "numeric_feat = ['LeadTime','ArrivalDateYear','ArrivalDateWeekNumber','ArrivalDateDayOfMonth',\n",
    "           'StaysInWeekendNights','StaysInWeekNights','Adults','Children','Babies',\n",
    "           'PreviousCancellations','PreviousBookingsNotCanceled','BookingChanges',\n",
    "          'Agent','Company','DaysInWaitingList','ADR','RequiredCarParkingSpaces',\n",
    "          'TotalOfSpecialRequests']\n",
    "\n",
    "binary_feat = ['IsRepeatedGuest']\n",
    "\n",
    "categorical_feat = ['ArrivalDateMonth','Meal','Country','MarketSegment','DistributionChannel','ReservedRoomType',\n",
    "               'AssignedRoomType','DepositType','CustomerType','ReservationStatus']\n",
    "\n",
    "date = ['ReservationStatusDate']\n",
    "\n"
   ]
  },
  {
   "cell_type": "code",
   "execution_count": 4,
   "metadata": {},
   "outputs": [
    {
     "data": {
      "text/html": [
       "<div>\n",
       "<style scoped>\n",
       "    .dataframe tbody tr th:only-of-type {\n",
       "        vertical-align: middle;\n",
       "    }\n",
       "\n",
       "    .dataframe tbody tr th {\n",
       "        vertical-align: top;\n",
       "    }\n",
       "\n",
       "    .dataframe thead th {\n",
       "        text-align: right;\n",
       "    }\n",
       "</style>\n",
       "<table border=\"1\" class=\"dataframe\">\n",
       "  <thead>\n",
       "    <tr style=\"text-align: right;\">\n",
       "      <th></th>\n",
       "      <th>Count</th>\n",
       "      <th>Missing Values (%)</th>\n",
       "      <th>Cardinality</th>\n",
       "      <th>Minimum</th>\n",
       "      <th>1st Qrt.</th>\n",
       "      <th>Mean</th>\n",
       "      <th>Median</th>\n",
       "      <th>3rd Qrt.</th>\n",
       "      <th>Maximum</th>\n",
       "      <th>Std. Dev.</th>\n",
       "    </tr>\n",
       "    <tr>\n",
       "      <th>Feature Name</th>\n",
       "      <th></th>\n",
       "      <th></th>\n",
       "      <th></th>\n",
       "      <th></th>\n",
       "      <th></th>\n",
       "      <th></th>\n",
       "      <th></th>\n",
       "      <th></th>\n",
       "      <th></th>\n",
       "      <th></th>\n",
       "    </tr>\n",
       "  </thead>\n",
       "  <tbody>\n",
       "    <tr>\n",
       "      <th>LeadTime</th>\n",
       "      <td>79330</td>\n",
       "      <td>0.000000</td>\n",
       "      <td>453</td>\n",
       "      <td>0</td>\n",
       "      <td>23.0</td>\n",
       "      <td>109.74</td>\n",
       "      <td>74.0</td>\n",
       "      <td>163.0</td>\n",
       "      <td>629</td>\n",
       "      <td>110.95</td>\n",
       "    </tr>\n",
       "    <tr>\n",
       "      <th>ArrivalDateYear</th>\n",
       "      <td>79330</td>\n",
       "      <td>0.000000</td>\n",
       "      <td>3</td>\n",
       "      <td>2015</td>\n",
       "      <td>2016.0</td>\n",
       "      <td>2016.17</td>\n",
       "      <td>2016.0</td>\n",
       "      <td>2017.0</td>\n",
       "      <td>2017</td>\n",
       "      <td>0.70</td>\n",
       "    </tr>\n",
       "    <tr>\n",
       "      <th>ArrivalDateWeekNumber</th>\n",
       "      <td>79330</td>\n",
       "      <td>0.000000</td>\n",
       "      <td>53</td>\n",
       "      <td>1</td>\n",
       "      <td>17.0</td>\n",
       "      <td>27.18</td>\n",
       "      <td>27.0</td>\n",
       "      <td>38.0</td>\n",
       "      <td>53</td>\n",
       "      <td>13.40</td>\n",
       "    </tr>\n",
       "    <tr>\n",
       "      <th>ArrivalDateDayOfMonth</th>\n",
       "      <td>79330</td>\n",
       "      <td>0.000000</td>\n",
       "      <td>31</td>\n",
       "      <td>1</td>\n",
       "      <td>8.0</td>\n",
       "      <td>15.79</td>\n",
       "      <td>16.0</td>\n",
       "      <td>23.0</td>\n",
       "      <td>31</td>\n",
       "      <td>8.73</td>\n",
       "    </tr>\n",
       "    <tr>\n",
       "      <th>StaysInWeekendNights</th>\n",
       "      <td>79330</td>\n",
       "      <td>0.000000</td>\n",
       "      <td>14</td>\n",
       "      <td>0</td>\n",
       "      <td>0.0</td>\n",
       "      <td>0.80</td>\n",
       "      <td>1.0</td>\n",
       "      <td>2.0</td>\n",
       "      <td>16</td>\n",
       "      <td>0.89</td>\n",
       "    </tr>\n",
       "    <tr>\n",
       "      <th>StaysInWeekNights</th>\n",
       "      <td>79330</td>\n",
       "      <td>0.000000</td>\n",
       "      <td>29</td>\n",
       "      <td>0</td>\n",
       "      <td>1.0</td>\n",
       "      <td>2.18</td>\n",
       "      <td>2.0</td>\n",
       "      <td>3.0</td>\n",
       "      <td>41</td>\n",
       "      <td>1.46</td>\n",
       "    </tr>\n",
       "    <tr>\n",
       "      <th>Adults</th>\n",
       "      <td>79330</td>\n",
       "      <td>0.000000</td>\n",
       "      <td>5</td>\n",
       "      <td>0</td>\n",
       "      <td>2.0</td>\n",
       "      <td>1.85</td>\n",
       "      <td>2.0</td>\n",
       "      <td>2.0</td>\n",
       "      <td>4</td>\n",
       "      <td>0.51</td>\n",
       "    </tr>\n",
       "    <tr>\n",
       "      <th>Children</th>\n",
       "      <td>79326</td>\n",
       "      <td>0.005042</td>\n",
       "      <td>4</td>\n",
       "      <td>0</td>\n",
       "      <td>0.0</td>\n",
       "      <td>0.09</td>\n",
       "      <td>0.0</td>\n",
       "      <td>0.0</td>\n",
       "      <td>3</td>\n",
       "      <td>0.37</td>\n",
       "    </tr>\n",
       "    <tr>\n",
       "      <th>Babies</th>\n",
       "      <td>79330</td>\n",
       "      <td>0.000000</td>\n",
       "      <td>5</td>\n",
       "      <td>0</td>\n",
       "      <td>0.0</td>\n",
       "      <td>0.00</td>\n",
       "      <td>0.0</td>\n",
       "      <td>0.0</td>\n",
       "      <td>10</td>\n",
       "      <td>0.08</td>\n",
       "    </tr>\n",
       "    <tr>\n",
       "      <th>PreviousCancellations</th>\n",
       "      <td>79330</td>\n",
       "      <td>0.000000</td>\n",
       "      <td>10</td>\n",
       "      <td>0</td>\n",
       "      <td>0.0</td>\n",
       "      <td>0.08</td>\n",
       "      <td>0.0</td>\n",
       "      <td>0.0</td>\n",
       "      <td>21</td>\n",
       "      <td>0.42</td>\n",
       "    </tr>\n",
       "    <tr>\n",
       "      <th>PreviousBookingsNotCanceled</th>\n",
       "      <td>79330</td>\n",
       "      <td>0.000000</td>\n",
       "      <td>73</td>\n",
       "      <td>0</td>\n",
       "      <td>0.0</td>\n",
       "      <td>0.13</td>\n",
       "      <td>0.0</td>\n",
       "      <td>0.0</td>\n",
       "      <td>72</td>\n",
       "      <td>1.69</td>\n",
       "    </tr>\n",
       "    <tr>\n",
       "      <th>BookingChanges</th>\n",
       "      <td>79330</td>\n",
       "      <td>0.000000</td>\n",
       "      <td>21</td>\n",
       "      <td>0</td>\n",
       "      <td>0.0</td>\n",
       "      <td>0.19</td>\n",
       "      <td>0.0</td>\n",
       "      <td>0.0</td>\n",
       "      <td>21</td>\n",
       "      <td>0.61</td>\n",
       "    </tr>\n",
       "    <tr>\n",
       "      <th>Agent</th>\n",
       "      <td>79330</td>\n",
       "      <td>0.000000</td>\n",
       "      <td>224</td>\n",
       "      <td>1</td>\n",
       "      <td>NaN</td>\n",
       "      <td>NaN</td>\n",
       "      <td>NaN</td>\n",
       "      <td>NaN</td>\n",
       "      <td>NULL</td>\n",
       "      <td>NaN</td>\n",
       "    </tr>\n",
       "    <tr>\n",
       "      <th>Company</th>\n",
       "      <td>79330</td>\n",
       "      <td>0.000000</td>\n",
       "      <td>208</td>\n",
       "      <td>8</td>\n",
       "      <td>NaN</td>\n",
       "      <td>NaN</td>\n",
       "      <td>NaN</td>\n",
       "      <td>NaN</td>\n",
       "      <td>NULL</td>\n",
       "      <td>NaN</td>\n",
       "    </tr>\n",
       "    <tr>\n",
       "      <th>DaysInWaitingList</th>\n",
       "      <td>79330</td>\n",
       "      <td>0.000000</td>\n",
       "      <td>115</td>\n",
       "      <td>0</td>\n",
       "      <td>0.0</td>\n",
       "      <td>3.23</td>\n",
       "      <td>0.0</td>\n",
       "      <td>0.0</td>\n",
       "      <td>391</td>\n",
       "      <td>20.87</td>\n",
       "    </tr>\n",
       "    <tr>\n",
       "      <th>ADR</th>\n",
       "      <td>79330</td>\n",
       "      <td>0.000000</td>\n",
       "      <td>5405</td>\n",
       "      <td>0</td>\n",
       "      <td>79.2</td>\n",
       "      <td>105.30</td>\n",
       "      <td>99.9</td>\n",
       "      <td>126.0</td>\n",
       "      <td>5400</td>\n",
       "      <td>43.60</td>\n",
       "    </tr>\n",
       "    <tr>\n",
       "      <th>RequiredCarParkingSpaces</th>\n",
       "      <td>79330</td>\n",
       "      <td>0.000000</td>\n",
       "      <td>4</td>\n",
       "      <td>0</td>\n",
       "      <td>0.0</td>\n",
       "      <td>0.02</td>\n",
       "      <td>0.0</td>\n",
       "      <td>0.0</td>\n",
       "      <td>3</td>\n",
       "      <td>0.15</td>\n",
       "    </tr>\n",
       "    <tr>\n",
       "      <th>TotalOfSpecialRequests</th>\n",
       "      <td>79330</td>\n",
       "      <td>0.000000</td>\n",
       "      <td>6</td>\n",
       "      <td>0</td>\n",
       "      <td>0.0</td>\n",
       "      <td>0.55</td>\n",
       "      <td>0.0</td>\n",
       "      <td>1.0</td>\n",
       "      <td>5</td>\n",
       "      <td>0.78</td>\n",
       "    </tr>\n",
       "  </tbody>\n",
       "</table>\n",
       "</div>"
      ],
      "text/plain": [
       "                             Count  Missing Values (%)  Cardinality  \\\n",
       "Feature Name                                                          \n",
       "LeadTime                     79330            0.000000          453   \n",
       "ArrivalDateYear              79330            0.000000            3   \n",
       "ArrivalDateWeekNumber        79330            0.000000           53   \n",
       "ArrivalDateDayOfMonth        79330            0.000000           31   \n",
       "StaysInWeekendNights         79330            0.000000           14   \n",
       "StaysInWeekNights            79330            0.000000           29   \n",
       "Adults                       79330            0.000000            5   \n",
       "Children                     79326            0.005042            4   \n",
       "Babies                       79330            0.000000            5   \n",
       "PreviousCancellations        79330            0.000000           10   \n",
       "PreviousBookingsNotCanceled  79330            0.000000           73   \n",
       "BookingChanges               79330            0.000000           21   \n",
       "Agent                        79330            0.000000          224   \n",
       "Company                      79330            0.000000          208   \n",
       "DaysInWaitingList            79330            0.000000          115   \n",
       "ADR                          79330            0.000000         5405   \n",
       "RequiredCarParkingSpaces     79330            0.000000            4   \n",
       "TotalOfSpecialRequests       79330            0.000000            6   \n",
       "\n",
       "                                 Minimum  1st Qrt.     Mean  Median  3rd Qrt.  \\\n",
       "Feature Name                                                                    \n",
       "LeadTime                               0      23.0   109.74    74.0     163.0   \n",
       "ArrivalDateYear                     2015    2016.0  2016.17  2016.0    2017.0   \n",
       "ArrivalDateWeekNumber                  1      17.0    27.18    27.0      38.0   \n",
       "ArrivalDateDayOfMonth                  1       8.0    15.79    16.0      23.0   \n",
       "StaysInWeekendNights                   0       0.0     0.80     1.0       2.0   \n",
       "StaysInWeekNights                      0       1.0     2.18     2.0       3.0   \n",
       "Adults                                 0       2.0     1.85     2.0       2.0   \n",
       "Children                               0       0.0     0.09     0.0       0.0   \n",
       "Babies                                 0       0.0     0.00     0.0       0.0   \n",
       "PreviousCancellations                  0       0.0     0.08     0.0       0.0   \n",
       "PreviousBookingsNotCanceled            0       0.0     0.13     0.0       0.0   \n",
       "BookingChanges                         0       0.0     0.19     0.0       0.0   \n",
       "Agent                                  1       NaN      NaN     NaN       NaN   \n",
       "Company                                8       NaN      NaN     NaN       NaN   \n",
       "DaysInWaitingList                      0       0.0     3.23     0.0       0.0   \n",
       "ADR                                    0      79.2   105.30    99.9     126.0   \n",
       "RequiredCarParkingSpaces               0       0.0     0.02     0.0       0.0   \n",
       "TotalOfSpecialRequests                 0       0.0     0.55     0.0       1.0   \n",
       "\n",
       "                                 Maximum  Std. Dev.  \n",
       "Feature Name                                         \n",
       "LeadTime                             629     110.95  \n",
       "ArrivalDateYear                     2017       0.70  \n",
       "ArrivalDateWeekNumber                 53      13.40  \n",
       "ArrivalDateDayOfMonth                 31       8.73  \n",
       "StaysInWeekendNights                  16       0.89  \n",
       "StaysInWeekNights                     41       1.46  \n",
       "Adults                                 4       0.51  \n",
       "Children                               3       0.37  \n",
       "Babies                                10       0.08  \n",
       "PreviousCancellations                 21       0.42  \n",
       "PreviousBookingsNotCanceled           72       1.69  \n",
       "BookingChanges                        21       0.61  \n",
       "Agent                               NULL        NaN  \n",
       "Company                             NULL        NaN  \n",
       "DaysInWaitingList                    391      20.87  \n",
       "ADR                                 5400      43.60  \n",
       "RequiredCarParkingSpaces               3       0.15  \n",
       "TotalOfSpecialRequests                 5       0.78  "
      ]
     },
     "execution_count": 4,
     "metadata": {},
     "output_type": "execute_result"
    }
   ],
   "source": [
    "#Data Quality Report for Continuous Features\n",
    "\n",
    "def DescribeContinuousFeatures(Continuous_Features, dataset):\n",
    "    Continuous_Head = ['Count', 'Missing Values (%)', 'Cardinality', 'Minimum', '1st Qrt.', 'Mean', 'Median', '3rd Qrt.', 'Maximum', 'Std. Dev.']\n",
    "    Continuous_Describe = pd.DataFrame(index=Continuous_Features, columns=Continuous_Head)\n",
    "    Continuous_Describe.index.name = 'Feature Name'\n",
    "    columns = dataset[Continuous_Features]\n",
    "\n",
    "#Total Number of Instances\n",
    "    Continuous_Describe[Continuous_Head[0]] = columns.count()\n",
    "\n",
    "#Percentage of instances that has Missing Values (sabendo à partida que nenhuma variável contínua tem missings)\n",
    "    Continuous_Describe[Continuous_Head[1]] = columns.isnull().sum() * 100 / len(dataset)\n",
    "    \n",
    "#Cardinality of each feature (cardinality measures the number of Distinct Values)\n",
    "    Continuous_Describe[Continuous_Head[2]] = columns.nunique()\n",
    "\n",
    "#Minimum Value\n",
    "    Continuous_Describe[Continuous_Head[3]] = columns.min()\n",
    "\n",
    "#1ST Quartile\n",
    "    Continuous_Describe[Continuous_Head[4]] = columns.quantile(0.25)\n",
    "\n",
    "#Mean\n",
    "    Continuous_Describe[Continuous_Head[5]] = round(columns.mean(), 2)\n",
    "\n",
    "#Median\n",
    "    Continuous_Describe[Continuous_Head[6]] = columns.median()\n",
    "\n",
    "#3rd Quartile\n",
    "    Continuous_Describe[Continuous_Head[7]] = columns.quantile(0.75)\n",
    "\n",
    "#Maximum Value\n",
    "    Continuous_Describe[Continuous_Head[8]] = columns.max()\n",
    "\n",
    "#Standard Deviation\n",
    "    Continuous_Describe[Continuous_Head[9]] = round(columns.std(),2)\n",
    "    \n",
    "    return Continuous_Describe\n",
    "\n",
    "DescribeContinuousFeatures(numeric_feat,df)"
   ]
  },
  {
   "cell_type": "code",
   "execution_count": 5,
   "metadata": {},
   "outputs": [
    {
     "data": {
      "text/html": [
       "<div>\n",
       "<style scoped>\n",
       "    .dataframe tbody tr th:only-of-type {\n",
       "        vertical-align: middle;\n",
       "    }\n",
       "\n",
       "    .dataframe tbody tr th {\n",
       "        vertical-align: top;\n",
       "    }\n",
       "\n",
       "    .dataframe thead th {\n",
       "        text-align: right;\n",
       "    }\n",
       "</style>\n",
       "<table border=\"1\" class=\"dataframe\">\n",
       "  <thead>\n",
       "    <tr style=\"text-align: right;\">\n",
       "      <th></th>\n",
       "      <th>Count</th>\n",
       "      <th>Missing Values (%)</th>\n",
       "      <th>Cardinality</th>\n",
       "      <th>Mode</th>\n",
       "      <th>Mode frequency</th>\n",
       "      <th>Mode (%)</th>\n",
       "      <th>2nd Mode</th>\n",
       "      <th>2nd Mode frequency</th>\n",
       "      <th>2nd Mode (%)</th>\n",
       "    </tr>\n",
       "    <tr>\n",
       "      <th>Feature Name</th>\n",
       "      <th></th>\n",
       "      <th></th>\n",
       "      <th></th>\n",
       "      <th></th>\n",
       "      <th></th>\n",
       "      <th></th>\n",
       "      <th></th>\n",
       "      <th></th>\n",
       "      <th></th>\n",
       "    </tr>\n",
       "  </thead>\n",
       "  <tbody>\n",
       "    <tr>\n",
       "      <th>ArrivalDateMonth</th>\n",
       "      <td>79330</td>\n",
       "      <td>0.0</td>\n",
       "      <td>12</td>\n",
       "      <td>August</td>\n",
       "      <td>8983</td>\n",
       "      <td>0.113236</td>\n",
       "      <td>May</td>\n",
       "      <td>8232</td>\n",
       "      <td>0.103769</td>\n",
       "    </tr>\n",
       "    <tr>\n",
       "      <th>Meal</th>\n",
       "      <td>79330</td>\n",
       "      <td>0.0</td>\n",
       "      <td>4</td>\n",
       "      <td>BB</td>\n",
       "      <td>62305</td>\n",
       "      <td>0.78539</td>\n",
       "      <td>SC</td>\n",
       "      <td>10564</td>\n",
       "      <td>0.133165</td>\n",
       "    </tr>\n",
       "    <tr>\n",
       "      <th>Country</th>\n",
       "      <td>79306</td>\n",
       "      <td>0.0</td>\n",
       "      <td>166</td>\n",
       "      <td>PRT</td>\n",
       "      <td>30960</td>\n",
       "      <td>0.390387</td>\n",
       "      <td>FRA</td>\n",
       "      <td>8804</td>\n",
       "      <td>0.111013</td>\n",
       "    </tr>\n",
       "    <tr>\n",
       "      <th>MarketSegment</th>\n",
       "      <td>79330</td>\n",
       "      <td>0.0</td>\n",
       "      <td>8</td>\n",
       "      <td>Online TA</td>\n",
       "      <td>38748</td>\n",
       "      <td>0.488441</td>\n",
       "      <td>Offline TA/TO</td>\n",
       "      <td>16747</td>\n",
       "      <td>0.211106</td>\n",
       "    </tr>\n",
       "    <tr>\n",
       "      <th>DistributionChannel</th>\n",
       "      <td>79330</td>\n",
       "      <td>0.0</td>\n",
       "      <td>5</td>\n",
       "      <td>TA/TO</td>\n",
       "      <td>68945</td>\n",
       "      <td>0.869091</td>\n",
       "      <td>Direct</td>\n",
       "      <td>6780</td>\n",
       "      <td>0.0854658</td>\n",
       "    </tr>\n",
       "    <tr>\n",
       "      <th>ReservedRoomType</th>\n",
       "      <td>79330</td>\n",
       "      <td>0.0</td>\n",
       "      <td>8</td>\n",
       "      <td>A</td>\n",
       "      <td>62595</td>\n",
       "      <td>0.789046</td>\n",
       "      <td>D</td>\n",
       "      <td>11768</td>\n",
       "      <td>0.148342</td>\n",
       "    </tr>\n",
       "    <tr>\n",
       "      <th>AssignedRoomType</th>\n",
       "      <td>79330</td>\n",
       "      <td>0.0</td>\n",
       "      <td>9</td>\n",
       "      <td>A</td>\n",
       "      <td>57007</td>\n",
       "      <td>0.718606</td>\n",
       "      <td>D</td>\n",
       "      <td>14983</td>\n",
       "      <td>0.188869</td>\n",
       "    </tr>\n",
       "    <tr>\n",
       "      <th>DepositType</th>\n",
       "      <td>79330</td>\n",
       "      <td>0.0</td>\n",
       "      <td>3</td>\n",
       "      <td>No Deposit</td>\n",
       "      <td>66442</td>\n",
       "      <td>0.837539</td>\n",
       "      <td>Non Refund</td>\n",
       "      <td>12868</td>\n",
       "      <td>0.162208</td>\n",
       "    </tr>\n",
       "    <tr>\n",
       "      <th>CustomerType</th>\n",
       "      <td>79330</td>\n",
       "      <td>0.0</td>\n",
       "      <td>4</td>\n",
       "      <td>Transient</td>\n",
       "      <td>59404</td>\n",
       "      <td>0.748821</td>\n",
       "      <td>Transient-Party</td>\n",
       "      <td>17333</td>\n",
       "      <td>0.218492</td>\n",
       "    </tr>\n",
       "    <tr>\n",
       "      <th>ReservationStatus</th>\n",
       "      <td>79330</td>\n",
       "      <td>0.0</td>\n",
       "      <td>3</td>\n",
       "      <td>Check-Out</td>\n",
       "      <td>46228</td>\n",
       "      <td>0.58273</td>\n",
       "      <td>Canceled</td>\n",
       "      <td>32186</td>\n",
       "      <td>0.405723</td>\n",
       "    </tr>\n",
       "  </tbody>\n",
       "</table>\n",
       "</div>"
      ],
      "text/plain": [
       "                     Count  Missing Values (%)  Cardinality              Mode  \\\n",
       "Feature Name                                                                    \n",
       "ArrivalDateMonth     79330                 0.0           12            August   \n",
       "Meal                 79330                 0.0            4         BB          \n",
       "Country              79306                 0.0          166               PRT   \n",
       "MarketSegment        79330                 0.0            8         Online TA   \n",
       "DistributionChannel  79330                 0.0            5             TA/TO   \n",
       "ReservedRoomType     79330                 0.0            8  A                  \n",
       "AssignedRoomType     79330                 0.0            9  A                  \n",
       "DepositType          79330                 0.0            3   No Deposit        \n",
       "CustomerType         79330                 0.0            4         Transient   \n",
       "ReservationStatus    79330                 0.0            3         Check-Out   \n",
       "\n",
       "                    Mode frequency  Mode (%)          2nd Mode  \\\n",
       "Feature Name                                                     \n",
       "ArrivalDateMonth              8983  0.113236               May   \n",
       "Meal                         62305   0.78539         SC          \n",
       "Country                      30960  0.390387               FRA   \n",
       "MarketSegment                38748  0.488441     Offline TA/TO   \n",
       "DistributionChannel          68945  0.869091            Direct   \n",
       "ReservedRoomType             62595  0.789046  D                  \n",
       "AssignedRoomType             57007  0.718606  D                  \n",
       "DepositType                  66442  0.837539   Non Refund        \n",
       "CustomerType                 59404  0.748821   Transient-Party   \n",
       "ReservationStatus            46228   0.58273          Canceled   \n",
       "\n",
       "                     2nd Mode frequency 2nd Mode (%)  \n",
       "Feature Name                                          \n",
       "ArrivalDateMonth                   8232     0.103769  \n",
       "Meal                              10564     0.133165  \n",
       "Country                            8804     0.111013  \n",
       "MarketSegment                     16747     0.211106  \n",
       "DistributionChannel                6780    0.0854658  \n",
       "ReservedRoomType                  11768     0.148342  \n",
       "AssignedRoomType                  14983     0.188869  \n",
       "DepositType                       12868     0.162208  \n",
       "CustomerType                      17333     0.218492  \n",
       "ReservationStatus                 32186     0.405723  "
      ]
     },
     "execution_count": 5,
     "metadata": {},
     "output_type": "execute_result"
    }
   ],
   "source": [
    "#Data Quality Report for Categorical Features\n",
    "\n",
    "def DescribeCategoricalFeatures(Categorical_Features, dataset):\n",
    "    Categorical_Head = ['Count', 'Missing Values (%)', 'Cardinality', 'Mode', 'Mode frequency', 'Mode (%)',\\\n",
    "                        '2nd Mode', '2nd Mode frequency', '2nd Mode (%)']\n",
    "\n",
    "    Categorical_Describe = pd.DataFrame(index=Categorical_Features, columns=Categorical_Head)\n",
    "    Categorical_Describe.index.name = 'Feature Name'\n",
    "    columns = dataset[Categorical_Features]\n",
    "    \n",
    "    #Total Number of Instances\n",
    "    Categorical_Describe[Categorical_Head[0]] = columns.count()\n",
    "    missings = []\n",
    "    for col in columns:\n",
    "        missings.append(len(dataset[dataset[col]=='?']) * 100/ len(dataset))\n",
    "    #Percentage of instances that has Missing Values \n",
    "    Categorical_Describe[Categorical_Head[1]] = missings\n",
    "    \n",
    "    #Cardinality of each feature (cardinality measures the number of Distinct Values)\n",
    "    Categorical_Describe[Categorical_Head[2]] = columns.nunique()\n",
    "    \n",
    "    Categorical_Describe[Categorical_Head[3]] = columns.mode().T\n",
    "    \n",
    "    Categorical_Describe[Categorical_Head[4]] = columns.describe().T['freq']\n",
    "    \n",
    "    Categorical_Describe[Categorical_Head[5]] = columns.describe().T['freq']/columns.describe().T['count']\n",
    "    \n",
    "    snd_modes = []\n",
    "    snd_modes_freq = []\n",
    "    for col in columns:\n",
    "        snd_modes.append(columns[col].value_counts().index[1])\n",
    "        snd_modes_freq.append(columns[col].value_counts()[1])\n",
    "        \n",
    "    Categorical_Describe[Categorical_Head[6]] = snd_modes\n",
    "    \n",
    "    Categorical_Describe[Categorical_Head[7]] = snd_modes_freq\n",
    "    \n",
    "    Categorical_Describe[Categorical_Head[8]] = Categorical_Describe[Categorical_Head[7]]/columns.describe().T['count']\n",
    "    \n",
    "    return Categorical_Describe\n",
    "\n",
    "DescribeCategoricalFeatures(categorical_feat,df)"
   ]
  },
  {
   "cell_type": "code",
   "execution_count": 6,
   "metadata": {},
   "outputs": [],
   "source": [
    "def plot_bar(features_list,direction='h'):\n",
    "    fig, axarr = plt.subplots(round(len(features_list)/2), 2, figsize=(20, 25))\n",
    "\n",
    "    a = 0\n",
    "    b = 0 \n",
    "    c = 1\n",
    "    for feat in features_list:\n",
    "        if direction == 'v': \n",
    "            df[feat].value_counts().plot.bar(\n",
    "                ax=axarr[a][b], fontsize=18, color='tomato')\n",
    "            axarr[a][b].set_title(feat, fontsize=20)\n",
    "            \n",
    "            plt.subplots_adjust(hspace=0.3,wspace=0.6)\n",
    "            plt.suptitle('Numerical Variables Absolute Frequencies',fontsize = 30, x = 0.43, y = 0.93)\n",
    "            \n",
    "        else: \n",
    "            df[feat].value_counts().plot.barh(\n",
    "                ax=axarr[a][b], fontsize=18, color='tomato')\n",
    "            axarr[a][b].set_title(feat, fontsize=20)\n",
    "            \n",
    "            plt.subplots_adjust(hspace=0.3,wspace=0.6)\n",
    "            plt.suptitle('Categorical Variables Absolute Frequencies',fontsize = 30, x = 0.43, y = 0.93)\n",
    "            \n",
    "        if b == 0:\n",
    "            b = 1\n",
    "        else:\n",
    "            b=0\n",
    "\n",
    "        if c % 2 == 0:\n",
    "            a += 1\n",
    "\n",
    "        c+=1\n",
    "        \n",
    "    plt.show()"
   ]
  },
  {
   "cell_type": "code",
   "execution_count": 12,
   "metadata": {},
   "outputs": [
    {
     "data": {
      "image/png": "[encoded data removed]",
      "text/plain": [
       "<Figure size 1440x1800 with 10 Axes>"
      ]
     },
     "metadata": {
      "needs_background": "light"
     },
     "output_type": "display_data"
    }
   ],
   "source": [
    "plot_bar(categorical_feat,'h')"
   ]
  },
  {
   "cell_type": "code",
   "execution_count": 18,
   "metadata": {},
   "outputs": [
    {
     "data": {
      "application/vnd.plotly.v1+json": {
       "config": {
        "plotlyServerURL": "https://plot.ly"
       },
       "data": [
        {
         "coloraxis": "coloraxis",
         "geo": "geo",
         "hovertemplate": "<b>%{hovertext}</b><br><br>index=%{location}<br>%canceled=%{z}<extra></extra>",
         "hovertext": [
          "PRT",
          "FRA",
          "DEU",
          "GBR",
          "ESP",
          "ITA",
          "BEL",
          "BRA",
          "USA",
          "NLD",
          "CHE",
          "IRL",
          "AUT",
          "CHN",
          "SWE",
          "ISR",
          "POL",
          "CN",
          "NOR",
          "RUS",
          "DNK",
          "AUS",
          "AGO",
          "ROU",
          "FIN",
          "TUR",
          "LUX",
          "JPN",
          "MAR",
          "HUN",
          "ARG",
          "CZE",
          "KOR",
          "GRC",
          "IND",
          "SRB",
          "DZA",
          "HRV",
          "MEX",
          "IRN",
          "BGR",
          "ZAF",
          "MOZ",
          "NZL",
          "COL",
          "THA",
          "SVK",
          "ISL",
          "EST",
          "CHL",
          "SAU",
          "SVN",
          "UKR",
          "CYP",
          "ARE",
          "TWN",
          "TUN",
          "LTU",
          "SGP",
          "EGY",
          "IDN",
          "PER",
          "ECU",
          "LBN",
          "HKG",
          "NGA",
          "URY",
          "PHL",
          "VEN",
          "LVA",
          "JOR",
          "BLR",
          "CPV",
          "MYS",
          "CRI",
          "MLT",
          "MAC",
          "KAZ",
          "QAT",
          "AZE",
          "IRQ",
          "KWT",
          "BIH",
          "BGD",
          "DOM",
          "GEO",
          "BOL",
          "SEN",
          "PAK",
          "TJK",
          "PAN",
          "MKD",
          "GNB",
          "ALB",
          "LBY",
          "CMR",
          "OMN",
          "MDV",
          "MUS",
          "ARM",
          "KEN",
          "LKA",
          "VNM",
          "JEY",
          "FRO",
          "MNE",
          "GIB",
          "TZA",
          "MCO",
          "BHR",
          "CIV",
          "CUB",
          "GHA",
          "PRY",
          "GTM",
          "BRB",
          "GAB",
          "UZB",
          "LIE",
          "TMP",
          "ETH",
          "PRI",
          "BEN",
          "SYR",
          "AND",
          "STP",
          "IMN",
          "ZWE",
          "KNA",
          "ATA",
          "GLP",
          "ABW",
          "MYT",
          "RWA",
          "GGY",
          "CAF",
          "SLV",
          "KHM",
          "LAO",
          "SLE",
          "NIC",
          "VGB",
          "ZMB",
          "DMA",
          "SUR",
          "NCL",
          "ATF",
          "SYC",
          "KIR",
          "AIA",
          "MMR",
          "BFA",
          "PYF",
          "HND",
          "SDN",
          "UMI",
          "UGA",
          "LCA",
          "GUY",
          "JAM",
          "NAM",
          "ASM",
          "TGO",
          "COM",
          "MRT",
          "MLI"
         ],
         "locations": [
          "PRT",
          "FRA",
          "DEU",
          "GBR",
          "ESP",
          "ITA",
          "BEL",
          "BRA",
          "USA",
          "NLD",
          "CHE",
          "IRL",
          "AUT",
          "CHN",
          "SWE",
          "ISR",
          "POL",
          "CN",
          "NOR",
          "RUS",
          "DNK",
          "AUS",
          "AGO",
          "ROU",
          "FIN",
          "TUR",
          "LUX",
          "JPN",
          "MAR",
          "HUN",
          "ARG",
          "CZE",
          "KOR",
          "GRC",
          "IND",
          "SRB",
          "DZA",
          "HRV",
          "MEX",
          "IRN",
          "BGR",
          "ZAF",
          "MOZ",
          "NZL",
          "COL",
          "THA",
          "SVK",
          "ISL",
          "EST",
          "CHL",
          "SAU",
          "SVN",
          "UKR",
          "CYP",
          "ARE",
          "TWN",
          "TUN",
          "LTU",
          "SGP",
          "EGY",
          "IDN",
          "PER",
          "ECU",
          "LBN",
          "HKG",
          "NGA",
          "URY",
          "PHL",
          "VEN",
          "LVA",
          "JOR",
          "BLR",
          "CPV",
          "MYS",
          "CRI",
          "MLT",
          "MAC",
          "KAZ",
          "QAT",
          "AZE",
          "IRQ",
          "KWT",
          "BIH",
          "BGD",
          "DOM",
          "GEO",
          "BOL",
          "SEN",
          "PAK",
          "TJK",
          "PAN",
          "MKD",
          "GNB",
          "ALB",
          "LBY",
          "CMR",
          "OMN",
          "MDV",
          "MUS",
          "ARM",
          "KEN",
          "LKA",
          "VNM",
          "JEY",
          "FRO",
          "MNE",
          "GIB",
          "TZA",
          "MCO",
          "BHR",
          "CIV",
          "CUB",
          "GHA",
          "PRY",
          "GTM",
          "BRB",
          "GAB",
          "UZB",
          "LIE",
          "TMP",
          "ETH",
          "PRI",
          "BEN",
          "SYR",
          "AND",
          "STP",
          "IMN",
          "ZWE",
          "KNA",
          "ATA",
          "GLP",
          "ABW",
          "MYT",
          "RWA",
          "GGY",
          "CAF",
          "SLV",
          "KHM",
          "LAO",
          "SLE",
          "NIC",
          "VGB",
          "ZMB",
          "DMA",
          "SUR",
          "NCL",
          "ATF",
          "SYC",
          "KIR",
          "AIA",
          "MMR",
          "BFA",
          "PYF",
          "HND",
          "SDN",
          "UMI",
          "UGA",
          "LCA",
          "GUY",
          "JAM",
          "NAM",
          "ASM",
          "TGO",
          "COM",
          "MRT",
          "MLI"
         ],
         "name": "",
         "type": "choropleth",
         "z": [
          0.6486111111111111,
          0.1957064970467969,
          0.1761998685075608,
          0.2938852304797742,
          0.28757319453480806,
          0.3788932567281524,
          0.2191129883843717,
          0.40635451505016723,
          0.26514215080346104,
          0.20817610062893083,
          0.244015444015444,
          0.3308519437551696,
          0.18613485280151948,
          0.5236994219653179,
          0.21388888888888888,
          0.24492979719188768,
          0.3003412969283277,
          0.27768014059753954,
          0.32644628099173556,
          0.4018058690744921,
          0.2810810810810811,
          0.2713864306784661,
          0.5857988165680473,
          0.3157894736842105,
          0.17905405405405406,
          0.4222222222222222,
          0.40096618357487923,
          0.14893617021276595,
          0.3967391304347826,
          0.37158469945355194,
          0.28662420382165604,
          0.22916666666666666,
          0.41935483870967744,
          0.2796610169491525,
          0.26956521739130435,
          0.031914893617021274,
          0.17582417582417584,
          0.25842696629213485,
          0.12658227848101267,
          0.2948717948717949,
          0.17142857142857143,
          0.41935483870967744,
          0.26229508196721313,
          0.1,
          0.34545454545454546,
          0.33962264150943394,
          0.39622641509433965,
          0.0784313725490196,
          0.28,
          0.2708333333333333,
          0.7021276595744681,
          0.30434782608695654,
          0.4444444444444444,
          0.20930232558139536,
          0.875,
          0.358974358974359,
          0.47368421052631576,
          0.17142857142857143,
          0.45714285714285713,
          0.3548387096774194,
          0.7333333333333333,
          0.21428571428571427,
          0.32,
          0.24,
          0.92,
          0.7916666666666666,
          0.25,
          0.6666666666666666,
          0.4782608695652174,
          0.22727272727272727,
          0.15789473684210525,
          0.3157894736842105,
          0.631578947368421,
          0.16666666666666666,
          0.058823529411764705,
          0.3125,
          1,
          0.2857142857142857,
          0.7857142857142857,
          0.5714285714285714,
          0,
          0.38461538461538464,
          0.25,
          0.75,
          0.7272727272727273,
          0.7272727272727273,
          0,
          0.7,
          0.7,
          0.8888888888888888,
          0,
          0.2222222222222222,
          0.1111111111111111,
          0.1111111111111111,
          0,
          0,
          0.5714285714285714,
          0.8333333333333334,
          0.16666666666666666,
          0.3333333333333333,
          0.3333333333333333,
          0,
          0.3333333333333333,
          1,
          0.8,
          0.4,
          1,
          0.6,
          0.25,
          0.75,
          0.5,
          0,
          0.5,
          0,
          0,
          0,
          0.5,
          0.6666666666666666,
          0.3333333333333333,
          0.3333333333333333,
          0.3333333333333333,
          0.6666666666666666,
          1,
          0,
          1,
          0,
          1,
          1,
          0,
          0,
          1,
          0,
          1,
          0,
          1,
          0,
          0,
          1,
          0,
          0,
          1,
          1,
          1,
          0,
          0,
          0,
          0,
          0,
          0,
          0,
          0,
          0,
          0,
          1,
          0,
          1,
          0,
          0,
          0,
          0,
          0,
          0,
          0,
          0,
          0,
          0
         ]
        }
       ],
       "layout": {
        "coloraxis": {
         "colorbar": {
          "title": {
           "text": "%canceled"
          }
         },
         "colorscale": [
          [
           0,
           "rgb(243, 231, 155)"
          ],
          [
           0.16666666666666666,
           "rgb(250, 196, 132)"
          ],
          [
           0.3333333333333333,
           "rgb(248, 160, 126)"
          ],
          [
           0.5,
           "rgb(235, 127, 134)"
          ],
          [
           0.6666666666666666,
           "rgb(206, 102, 147)"
          ],
          [
           0.8333333333333334,
           "rgb(160, 89, 160)"
          ],
          [
           1,
           "rgb(92, 83, 165)"
          ]
         ]
        },
        "geo": {
         "center": {},
         "domain": {
          "x": [
           0,
           1
          ],
          "y": [
           0,
           1
          ]
         }
        },
        "legend": {
         "tracegroupgap": 0
        },
        "template": {
         "data": {
          "bar": [
           {
            "error_x": {
             "color": "#2a3f5f"
            },
            "error_y": {
             "color": "#2a3f5f"
            },
            "marker": {
             "line": {
              "color": "#E5ECF6",
              "width": 0.5
             }
            },
            "type": "bar"
           }
          ],
          "barpolar": [
           {
            "marker": {
             "line": {
              "color": "#E5ECF6",
              "width": 0.5
             }
            },
            "type": "barpolar"
           }
          ],
          "carpet": [
           {
            "aaxis": {
             "endlinecolor": "#2a3f5f",
             "gridcolor": "white",
             "linecolor": "white",
             "minorgridcolor": "white",
             "startlinecolor": "#2a3f5f"
            },
            "baxis": {
             "endlinecolor": "#2a3f5f",
             "gridcolor": "white",
             "linecolor": "white",
             "minorgridcolor": "white",
             "startlinecolor": "#2a3f5f"
            },
            "type": "carpet"
           }
          ],
          "choropleth": [
           {
            "colorbar": {
             "outlinewidth": 0,
             "ticks": ""
            },
            "type": "choropleth"
           }
          ],
          "contour": [
           {
            "colorbar": {
             "outlinewidth": 0,
             "ticks": ""
            },
            "colorscale": [
             [
              0,
              "#0d0887"
             ],
             [
              0.1111111111111111,
              "#46039f"
             ],
             [
              0.2222222222222222,
              "#7201a8"
             ],
             [
              0.3333333333333333,
              "#9c179e"
             ],
             [
              0.4444444444444444,
              "#bd3786"
             ],
             [
              0.5555555555555556,
              "#d8576b"
             ],
             [
              0.6666666666666666,
              "#ed7953"
             ],
             [
              0.7777777777777778,
              "#fb9f3a"
             ],
             [
              0.8888888888888888,
              "#fdca26"
             ],
             [
              1,
              "#f0f921"
             ]
            ],
            "type": "contour"
           }
          ],
          "contourcarpet": [
           {
            "colorbar": {
             "outlinewidth": 0,
             "ticks": ""
            },
            "type": "contourcarpet"
           }
          ],
          "heatmap": [
           {
            "colorbar": {
             "outlinewidth": 0,
             "ticks": ""
            },
            "colorscale": [
             [
              0,
              "#0d0887"
             ],
             [
              0.1111111111111111,
              "#46039f"
             ],
             [
              0.2222222222222222,
              "#7201a8"
             ],
             [
              0.3333333333333333,
              "#9c179e"
             ],
             [
              0.4444444444444444,
              "#bd3786"
             ],
             [
              0.5555555555555556,
              "#d8576b"
             ],
             [
              0.6666666666666666,
              "#ed7953"
             ],
             [
              0.7777777777777778,
              "#fb9f3a"
             ],
             [
              0.8888888888888888,
              "#fdca26"
             ],
             [
              1,
              "#f0f921"
             ]
            ],
            "type": "heatmap"
           }
          ],
          "heatmapgl": [
           {
            "colorbar": {
             "outlinewidth": 0,
             "ticks": ""
            },
            "colorscale": [
             [
              0,
              "#0d0887"
             ],
             [
              0.1111111111111111,
              "#46039f"
             ],
             [
              0.2222222222222222,
              "#7201a8"
             ],
             [
              0.3333333333333333,
              "#9c179e"
             ],
             [
              0.4444444444444444,
              "#bd3786"
             ],
             [
              0.5555555555555556,
              "#d8576b"
             ],
             [
              0.6666666666666666,
              "#ed7953"
             ],
             [
              0.7777777777777778,
              "#fb9f3a"
             ],
             [
              0.8888888888888888,
              "#fdca26"
             ],
             [
              1,
              "#f0f921"
             ]
            ],
            "type": "heatmapgl"
           }
          ],
          "histogram": [
           {
            "marker": {
             "colorbar": {
              "outlinewidth": 0,
              "ticks": ""
             }
            },
            "type": "histogram"
           }
          ],
          "histogram2d": [
           {
            "colorbar": {
             "outlinewidth": 0,
             "ticks": ""
            },
            "colorscale": [
             [
              0,
              "#0d0887"
             ],
             [
              0.1111111111111111,
              "#46039f"
             ],
             [
              0.2222222222222222,
              "#7201a8"
             ],
             [
              0.3333333333333333,
              "#9c179e"
             ],
             [
              0.4444444444444444,
              "#bd3786"
             ],
             [
              0.5555555555555556,
              "#d8576b"
             ],
             [
              0.6666666666666666,
              "#ed7953"
             ],
             [
              0.7777777777777778,
              "#fb9f3a"
             ],
             [
              0.8888888888888888,
              "#fdca26"
             ],
             [
              1,
              "#f0f921"
             ]
            ],
            "type": "histogram2d"
           }
          ],
          "histogram2dcontour": [
           {
            "colorbar": {
             "outlinewidth": 0,
             "ticks": ""
            },
            "colorscale": [
             [
              0,
              "#0d0887"
             ],
             [
              0.1111111111111111,
              "#46039f"
             ],
             [
              0.2222222222222222,
              "#7201a8"
             ],
             [
              0.3333333333333333,
              "#9c179e"
             ],
             [
              0.4444444444444444,
              "#bd3786"
             ],
             [
              0.5555555555555556,
              "#d8576b"
             ],
             [
              0.6666666666666666,
              "#ed7953"
             ],
             [
              0.7777777777777778,
              "#fb9f3a"
             ],
             [
              0.8888888888888888,
              "#fdca26"
             ],
             [
              1,
              "#f0f921"
             ]
            ],
            "type": "histogram2dcontour"
           }
          ],
          "mesh3d": [
           {
            "colorbar": {
             "outlinewidth": 0,
             "ticks": ""
            },
            "type": "mesh3d"
           }
          ],
          "parcoords": [
           {
            "line": {
             "colorbar": {
              "outlinewidth": 0,
              "ticks": ""
             }
            },
            "type": "parcoords"
           }
          ],
          "pie": [
           {
            "automargin": true,
            "type": "pie"
           }
          ],
          "scatter": [
           {
            "marker": {
             "colorbar": {
              "outlinewidth": 0,
              "ticks": ""
             }
            },
            "type": "scatter"
           }
          ],
          "scatter3d": [
           {
            "line": {
             "colorbar": {
              "outlinewidth": 0,
              "ticks": ""
             }
            },
            "marker": {
             "colorbar": {
              "outlinewidth": 0,
              "ticks": ""
             }
            },
            "type": "scatter3d"
           }
          ],
          "scattercarpet": [
           {
            "marker": {
             "colorbar": {
              "outlinewidth": 0,
              "ticks": ""
             }
            },
            "type": "scattercarpet"
           }
          ],
          "scattergeo": [
           {
            "marker": {
             "colorbar": {
              "outlinewidth": 0,
              "ticks": ""
             }
            },
            "type": "scattergeo"
           }
          ],
          "scattergl": [
           {
            "marker": {
             "colorbar": {
              "outlinewidth": 0,
              "ticks": ""
             }
            },
            "type": "scattergl"
           }
          ],
          "scattermapbox": [
           {
            "marker": {
             "colorbar": {
              "outlinewidth": 0,
              "ticks": ""
             }
            },
            "type": "scattermapbox"
           }
          ],
          "scatterpolar": [
           {
            "marker": {
             "colorbar": {
              "outlinewidth": 0,
              "ticks": ""
             }
            },
            "type": "scatterpolar"
           }
          ],
          "scatterpolargl": [
           {
            "marker": {
             "colorbar": {
              "outlinewidth": 0,
              "ticks": ""
             }
            },
            "type": "scatterpolargl"
           }
          ],
          "scatterternary": [
           {
            "marker": {
             "colorbar": {
              "outlinewidth": 0,
              "ticks": ""
             }
            },
            "type": "scatterternary"
           }
          ],
          "surface": [
           {
            "colorbar": {
             "outlinewidth": 0,
             "ticks": ""
            },
            "colorscale": [
             [
              0,
              "#0d0887"
             ],
             [
              0.1111111111111111,
              "#46039f"
             ],
             [
              0.2222222222222222,
              "#7201a8"
             ],
             [
              0.3333333333333333,
              "#9c179e"
             ],
             [
              0.4444444444444444,
              "#bd3786"
             ],
             [
              0.5555555555555556,
              "#d8576b"
             ],
             [
              0.6666666666666666,
              "#ed7953"
             ],
             [
              0.7777777777777778,
              "#fb9f3a"
             ],
             [
              0.8888888888888888,
              "#fdca26"
             ],
             [
              1,
              "#f0f921"
             ]
            ],
            "type": "surface"
           }
          ],
          "table": [
           {
            "cells": {
             "fill": {
              "color": "#EBF0F8"
             },
             "line": {
              "color": "white"
             }
            },
            "header": {
             "fill": {
              "color": "#C8D4E3"
             },
             "line": {
              "color": "white"
             }
            },
            "type": "table"
           }
          ]
         },
         "layout": {
          "annotationdefaults": {
           "arrowcolor": "#2a3f5f",
           "arrowhead": 0,
           "arrowwidth": 1
          },
          "autotypenumbers": "strict",
          "coloraxis": {
           "colorbar": {
            "outlinewidth": 0,
            "ticks": ""
           }
          },
          "colorscale": {
           "diverging": [
            [
             0,
             "#8e0152"
            ],
            [
             0.1,
             "#c51b7d"
            ],
            [
             0.2,
             "#de77ae"
            ],
            [
             0.3,
             "#f1b6da"
            ],
            [
             0.4,
             "#fde0ef"
            ],
            [
             0.5,
             "#f7f7f7"
            ],
            [
             0.6,
             "#e6f5d0"
            ],
            [
             0.7,
             "#b8e186"
            ],
            [
             0.8,
             "#7fbc41"
            ],
            [
             0.9,
             "#4d9221"
            ],
            [
             1,
             "#276419"
            ]
           ],
           "sequential": [
            [
             0,
             "#0d0887"
            ],
            [
             0.1111111111111111,
             "#46039f"
            ],
            [
             0.2222222222222222,
             "#7201a8"
            ],
            [
             0.3333333333333333,
             "#9c179e"
            ],
            [
             0.4444444444444444,
             "#bd3786"
            ],
            [
             0.5555555555555556,
             "#d8576b"
            ],
            [
             0.6666666666666666,
             "#ed7953"
            ],
            [
             0.7777777777777778,
             "#fb9f3a"
            ],
            [
             0.8888888888888888,
             "#fdca26"
            ],
            [
             1,
             "#f0f921"
            ]
           ],
           "sequentialminus": [
            [
             0,
             "#0d0887"
            ],
            [
             0.1111111111111111,
             "#46039f"
            ],
            [
             0.2222222222222222,
             "#7201a8"
            ],
            [
             0.3333333333333333,
             "#9c179e"
            ],
            [
             0.4444444444444444,
             "#bd3786"
            ],
            [
             0.5555555555555556,
             "#d8576b"
            ],
            [
             0.6666666666666666,
             "#ed7953"
            ],
            [
             0.7777777777777778,
             "#fb9f3a"
            ],
            [
             0.8888888888888888,
             "#fdca26"
            ],
            [
             1,
             "#f0f921"
            ]
           ]
          },
          "colorway": [
           "#636efa",
           "#EF553B",
           "#00cc96",
           "#ab63fa",
           "#FFA15A",
           "#19d3f3",
           "#FF6692",
           "#B6E880",
           "#FF97FF",
           "#FECB52"
          ],
          "font": {
           "color": "#2a3f5f"
          },
          "geo": {
           "bgcolor": "white",
           "lakecolor": "white",
           "landcolor": "#E5ECF6",
           "showlakes": true,
           "showland": true,
           "subunitcolor": "white"
          },
          "hoverlabel": {
           "align": "left"
          },
          "hovermode": "closest",
          "mapbox": {
           "style": "light"
          },
          "paper_bgcolor": "white",
          "plot_bgcolor": "#E5ECF6",
          "polar": {
           "angularaxis": {
            "gridcolor": "white",
            "linecolor": "white",
            "ticks": ""
           },
           "bgcolor": "#E5ECF6",
           "radialaxis": {
            "gridcolor": "white",
            "linecolor": "white",
            "ticks": ""
           }
          },
          "scene": {
           "xaxis": {
            "backgroundcolor": "#E5ECF6",
            "gridcolor": "white",
            "gridwidth": 2,
            "linecolor": "white",
            "showbackground": true,
            "ticks": "",
            "zerolinecolor": "white"
           },
           "yaxis": {
            "backgroundcolor": "#E5ECF6",
            "gridcolor": "white",
            "gridwidth": 2,
            "linecolor": "white",
            "showbackground": true,
            "ticks": "",
            "zerolinecolor": "white"
           },
           "zaxis": {
            "backgroundcolor": "#E5ECF6",
            "gridcolor": "white",
            "gridwidth": 2,
            "linecolor": "white",
            "showbackground": true,
            "ticks": "",
            "zerolinecolor": "white"
           }
          },
          "shapedefaults": {
           "line": {
            "color": "#2a3f5f"
           }
          },
          "ternary": {
           "aaxis": {
            "gridcolor": "white",
            "linecolor": "white",
            "ticks": ""
           },
           "baxis": {
            "gridcolor": "white",
            "linecolor": "white",
            "ticks": ""
           },
           "bgcolor": "#E5ECF6",
           "caxis": {
            "gridcolor": "white",
            "linecolor": "white",
            "ticks": ""
           }
          },
          "title": {
           "x": 0.05
          },
          "xaxis": {
           "automargin": true,
           "gridcolor": "white",
           "linecolor": "white",
           "ticks": "",
           "title": {
            "standoff": 15
           },
           "zerolinecolor": "white",
           "zerolinewidth": 2
          },
          "yaxis": {
           "automargin": true,
           "gridcolor": "white",
           "linecolor": "white",
           "ticks": "",
           "title": {
            "standoff": 15
           },
           "zerolinecolor": "white",
           "zerolinewidth": 2
          }
         }
        },
        "title": {
         "text": "Country % of cancelations"
        }
       }
      },
      "text/html": [
       "<div>                            <div id=\"35f020b8-5502-4415-9138-16300662cfb6\" class=\"plotly-graph-div\" style=\"height:525px; width:100%;\"></div>            <script type=\"text/javascript\">                require([\"plotly\"], function(Plotly) {                    window.PLOTLYENV=window.PLOTLYENV || {};                                    if (document.getElementById(\"35f020b8-5502-4415-9138-16300662cfb6\")) {                    Plotly.newPlot(                        \"35f020b8-5502-4415-9138-16300662cfb6\",                        [{\"coloraxis\": \"coloraxis\", \"geo\": \"geo\", \"hovertemplate\": \"<b>%{hovertext}</b><br><br>index=%{location}<br>%canceled=%{z}<extra></extra>\", \"hovertext\": [\"PRT\", \"FRA\", \"DEU\", \"GBR\", \"ESP\", \"ITA\", \"BEL\", \"BRA\", \"USA\", \"NLD\", \"CHE\", \"IRL\", \"AUT\", \"CHN\", \"SWE\", \"ISR\", \"POL\", \"CN\", \"NOR\", \"RUS\", \"DNK\", \"AUS\", \"AGO\", \"ROU\", \"FIN\", \"TUR\", \"LUX\", \"JPN\", \"MAR\", \"HUN\", \"ARG\", \"CZE\", \"KOR\", \"GRC\", \"IND\", \"SRB\", \"DZA\", \"HRV\", \"MEX\", \"IRN\", \"BGR\", \"ZAF\", \"MOZ\", \"NZL\", \"COL\", \"THA\", \"SVK\", \"ISL\", \"EST\", \"CHL\", \"SAU\", \"SVN\", \"UKR\", \"CYP\", \"ARE\", \"TWN\", \"TUN\", \"LTU\", \"SGP\", \"EGY\", \"IDN\", \"PER\", \"ECU\", \"LBN\", \"HKG\", \"NGA\", \"URY\", \"PHL\", \"VEN\", \"LVA\", \"JOR\", \"BLR\", \"CPV\", \"MYS\", \"CRI\", \"MLT\", \"MAC\", \"KAZ\", \"QAT\", \"AZE\", \"IRQ\", \"KWT\", \"BIH\", \"BGD\", \"DOM\", \"GEO\", \"BOL\", \"SEN\", \"PAK\", \"TJK\", \"PAN\", \"MKD\", \"GNB\", \"ALB\", \"LBY\", \"CMR\", \"OMN\", \"MDV\", \"MUS\", \"ARM\", \"KEN\", \"LKA\", \"VNM\", \"JEY\", \"FRO\", \"MNE\", \"GIB\", \"TZA\", \"MCO\", \"BHR\", \"CIV\", \"CUB\", \"GHA\", \"PRY\", \"GTM\", \"BRB\", \"GAB\", \"UZB\", \"LIE\", \"TMP\", \"ETH\", \"PRI\", \"BEN\", \"SYR\", \"AND\", \"STP\", \"IMN\", \"ZWE\", \"KNA\", \"ATA\", \"GLP\", \"ABW\", \"MYT\", \"RWA\", \"GGY\", \"CAF\", \"SLV\", \"KHM\", \"LAO\", \"SLE\", \"NIC\", \"VGB\", \"ZMB\", \"DMA\", \"SUR\", \"NCL\", \"ATF\", \"SYC\", \"KIR\", \"AIA\", \"MMR\", \"BFA\", \"PYF\", \"HND\", \"SDN\", \"UMI\", \"UGA\", \"LCA\", \"GUY\", \"JAM\", \"NAM\", \"ASM\", \"TGO\", \"COM\", \"MRT\", \"MLI\"], \"locations\": [\"PRT\", \"FRA\", \"DEU\", \"GBR\", \"ESP\", \"ITA\", \"BEL\", \"BRA\", \"USA\", \"NLD\", \"CHE\", \"IRL\", \"AUT\", \"CHN\", \"SWE\", \"ISR\", \"POL\", \"CN\", \"NOR\", \"RUS\", \"DNK\", \"AUS\", \"AGO\", \"ROU\", \"FIN\", \"TUR\", \"LUX\", \"JPN\", \"MAR\", \"HUN\", \"ARG\", \"CZE\", \"KOR\", \"GRC\", \"IND\", \"SRB\", \"DZA\", \"HRV\", \"MEX\", \"IRN\", \"BGR\", \"ZAF\", \"MOZ\", \"NZL\", \"COL\", \"THA\", \"SVK\", \"ISL\", \"EST\", \"CHL\", \"SAU\", \"SVN\", \"UKR\", \"CYP\", \"ARE\", \"TWN\", \"TUN\", \"LTU\", \"SGP\", \"EGY\", \"IDN\", \"PER\", \"ECU\", \"LBN\", \"HKG\", \"NGA\", \"URY\", \"PHL\", \"VEN\", \"LVA\", \"JOR\", \"BLR\", \"CPV\", \"MYS\", \"CRI\", \"MLT\", \"MAC\", \"KAZ\", \"QAT\", \"AZE\", \"IRQ\", \"KWT\", \"BIH\", \"BGD\", \"DOM\", \"GEO\", \"BOL\", \"SEN\", \"PAK\", \"TJK\", \"PAN\", \"MKD\", \"GNB\", \"ALB\", \"LBY\", \"CMR\", \"OMN\", \"MDV\", \"MUS\", \"ARM\", \"KEN\", \"LKA\", \"VNM\", \"JEY\", \"FRO\", \"MNE\", \"GIB\", \"TZA\", \"MCO\", \"BHR\", \"CIV\", \"CUB\", \"GHA\", \"PRY\", \"GTM\", \"BRB\", \"GAB\", \"UZB\", \"LIE\", \"TMP\", \"ETH\", \"PRI\", \"BEN\", \"SYR\", \"AND\", \"STP\", \"IMN\", \"ZWE\", \"KNA\", \"ATA\", \"GLP\", \"ABW\", \"MYT\", \"RWA\", \"GGY\", \"CAF\", \"SLV\", \"KHM\", \"LAO\", \"SLE\", \"NIC\", \"VGB\", \"ZMB\", \"DMA\", \"SUR\", \"NCL\", \"ATF\", \"SYC\", \"KIR\", \"AIA\", \"MMR\", \"BFA\", \"PYF\", \"HND\", \"SDN\", \"UMI\", \"UGA\", \"LCA\", \"GUY\", \"JAM\", \"NAM\", \"ASM\", \"TGO\", \"COM\", \"MRT\", \"MLI\"], \"name\": \"\", \"type\": \"choropleth\", \"z\": [0.6486111111111111, 0.1957064970467969, 0.1761998685075608, 0.2938852304797742, 0.28757319453480806, 0.3788932567281524, 0.2191129883843717, 0.40635451505016723, 0.26514215080346104, 0.20817610062893083, 0.244015444015444, 0.3308519437551696, 0.18613485280151948, 0.5236994219653179, 0.21388888888888888, 0.24492979719188768, 0.3003412969283277, 0.27768014059753954, 0.32644628099173556, 0.4018058690744921, 0.2810810810810811, 0.2713864306784661, 0.5857988165680473, 0.3157894736842105, 0.17905405405405406, 0.4222222222222222, 0.40096618357487923, 0.14893617021276595, 0.3967391304347826, 0.37158469945355194, 0.28662420382165604, 0.22916666666666666, 0.41935483870967744, 0.2796610169491525, 0.26956521739130435, 0.031914893617021274, 0.17582417582417584, 0.25842696629213485, 0.12658227848101267, 0.2948717948717949, 0.17142857142857143, 0.41935483870967744, 0.26229508196721313, 0.1, 0.34545454545454546, 0.33962264150943394, 0.39622641509433965, 0.0784313725490196, 0.28, 0.2708333333333333, 0.7021276595744681, 0.30434782608695654, 0.4444444444444444, 0.20930232558139536, 0.875, 0.358974358974359, 0.47368421052631576, 0.17142857142857143, 0.45714285714285713, 0.3548387096774194, 0.7333333333333333, 0.21428571428571427, 0.32, 0.24, 0.92, 0.7916666666666666, 0.25, 0.6666666666666666, 0.4782608695652174, 0.22727272727272727, 0.15789473684210525, 0.3157894736842105, 0.631578947368421, 0.16666666666666666, 0.058823529411764705, 0.3125, 1.0, 0.2857142857142857, 0.7857142857142857, 0.5714285714285714, 0.0, 0.38461538461538464, 0.25, 0.75, 0.7272727272727273, 0.7272727272727273, 0.0, 0.7, 0.7, 0.8888888888888888, 0.0, 0.2222222222222222, 0.1111111111111111, 0.1111111111111111, 0.0, 0.0, 0.5714285714285714, 0.8333333333333334, 0.16666666666666666, 0.3333333333333333, 0.3333333333333333, 0.0, 0.3333333333333333, 1.0, 0.8, 0.4, 1.0, 0.6, 0.25, 0.75, 0.5, 0.0, 0.5, 0.0, 0.0, 0.0, 0.5, 0.6666666666666666, 0.3333333333333333, 0.3333333333333333, 0.3333333333333333, 0.6666666666666666, 1.0, 0.0, 1.0, 0.0, 1.0, 1.0, 0.0, 0.0, 1.0, 0.0, 1.0, 0.0, 1.0, 0.0, 0.0, 1.0, 0.0, 0.0, 1.0, 1.0, 1.0, 0.0, 0.0, 0.0, 0.0, 0.0, 0.0, 0.0, 0.0, 0.0, 0.0, 1.0, 0.0, 1.0, 0.0, 0.0, 0.0, 0.0, 0.0, 0.0, 0.0, 0.0, 0.0, 0.0]}],                        {\"coloraxis\": {\"colorbar\": {\"title\": {\"text\": \"%canceled\"}}, \"colorscale\": [[0.0, \"rgb(243, 231, 155)\"], [0.16666666666666666, \"rgb(250, 196, 132)\"], [0.3333333333333333, \"rgb(248, 160, 126)\"], [0.5, \"rgb(235, 127, 134)\"], [0.6666666666666666, \"rgb(206, 102, 147)\"], [0.8333333333333334, \"rgb(160, 89, 160)\"], [1.0, \"rgb(92, 83, 165)\"]]}, \"geo\": {\"center\": {}, \"domain\": {\"x\": [0.0, 1.0], \"y\": [0.0, 1.0]}}, \"legend\": {\"tracegroupgap\": 0}, \"template\": {\"data\": {\"bar\": [{\"error_x\": {\"color\": \"#2a3f5f\"}, \"error_y\": {\"color\": \"#2a3f5f\"}, \"marker\": {\"line\": {\"color\": \"#E5ECF6\", \"width\": 0.5}}, \"type\": \"bar\"}], \"barpolar\": [{\"marker\": {\"line\": {\"color\": \"#E5ECF6\", \"width\": 0.5}}, \"type\": \"barpolar\"}], \"carpet\": [{\"aaxis\": {\"endlinecolor\": \"#2a3f5f\", \"gridcolor\": \"white\", \"linecolor\": \"white\", \"minorgridcolor\": \"white\", \"startlinecolor\": \"#2a3f5f\"}, \"baxis\": {\"endlinecolor\": \"#2a3f5f\", \"gridcolor\": \"white\", \"linecolor\": \"white\", \"minorgridcolor\": \"white\", \"startlinecolor\": \"#2a3f5f\"}, \"type\": \"carpet\"}], \"choropleth\": [{\"colorbar\": {\"outlinewidth\": 0, \"ticks\": \"\"}, \"type\": \"choropleth\"}], \"contour\": [{\"colorbar\": {\"outlinewidth\": 0, \"ticks\": \"\"}, \"colorscale\": [[0.0, \"#0d0887\"], [0.1111111111111111, \"#46039f\"], [0.2222222222222222, \"#7201a8\"], [0.3333333333333333, \"#9c179e\"], [0.4444444444444444, \"#bd3786\"], [0.5555555555555556, \"#d8576b\"], [0.6666666666666666, \"#ed7953\"], [0.7777777777777778, \"#fb9f3a\"], [0.8888888888888888, \"#fdca26\"], [1.0, \"#f0f921\"]], \"type\": \"contour\"}], \"contourcarpet\": [{\"colorbar\": {\"outlinewidth\": 0, \"ticks\": \"\"}, \"type\": \"contourcarpet\"}], \"heatmap\": [{\"colorbar\": {\"outlinewidth\": 0, \"ticks\": \"\"}, \"colorscale\": [[0.0, \"#0d0887\"], [0.1111111111111111, \"#46039f\"], [0.2222222222222222, \"#7201a8\"], [0.3333333333333333, \"#9c179e\"], [0.4444444444444444, \"#bd3786\"], [0.5555555555555556, \"#d8576b\"], [0.6666666666666666, \"#ed7953\"], [0.7777777777777778, \"#fb9f3a\"], [0.8888888888888888, \"#fdca26\"], [1.0, \"#f0f921\"]], \"type\": \"heatmap\"}], \"heatmapgl\": [{\"colorbar\": {\"outlinewidth\": 0, \"ticks\": \"\"}, \"colorscale\": [[0.0, \"#0d0887\"], [0.1111111111111111, \"#46039f\"], [0.2222222222222222, \"#7201a8\"], [0.3333333333333333, \"#9c179e\"], [0.4444444444444444, \"#bd3786\"], [0.5555555555555556, \"#d8576b\"], [0.6666666666666666, \"#ed7953\"], [0.7777777777777778, \"#fb9f3a\"], [0.8888888888888888, \"#fdca26\"], [1.0, \"#f0f921\"]], \"type\": \"heatmapgl\"}], \"histogram\": [{\"marker\": {\"colorbar\": {\"outlinewidth\": 0, \"ticks\": \"\"}}, \"type\": \"histogram\"}], \"histogram2d\": [{\"colorbar\": {\"outlinewidth\": 0, \"ticks\": \"\"}, \"colorscale\": [[0.0, \"#0d0887\"], [0.1111111111111111, \"#46039f\"], [0.2222222222222222, \"#7201a8\"], [0.3333333333333333, \"#9c179e\"], [0.4444444444444444, \"#bd3786\"], [0.5555555555555556, \"#d8576b\"], [0.6666666666666666, \"#ed7953\"], [0.7777777777777778, \"#fb9f3a\"], [0.8888888888888888, \"#fdca26\"], [1.0, \"#f0f921\"]], \"type\": \"histogram2d\"}], \"histogram2dcontour\": [{\"colorbar\": {\"outlinewidth\": 0, \"ticks\": \"\"}, \"colorscale\": [[0.0, \"#0d0887\"], [0.1111111111111111, \"#46039f\"], [0.2222222222222222, \"#7201a8\"], [0.3333333333333333, \"#9c179e\"], [0.4444444444444444, \"#bd3786\"], [0.5555555555555556, \"#d8576b\"], [0.6666666666666666, \"#ed7953\"], [0.7777777777777778, \"#fb9f3a\"], [0.8888888888888888, \"#fdca26\"], [1.0, \"#f0f921\"]], \"type\": \"histogram2dcontour\"}], \"mesh3d\": [{\"colorbar\": {\"outlinewidth\": 0, \"ticks\": \"\"}, \"type\": \"mesh3d\"}], \"parcoords\": [{\"line\": {\"colorbar\": {\"outlinewidth\": 0, \"ticks\": \"\"}}, \"type\": \"parcoords\"}], \"pie\": [{\"automargin\": true, \"type\": \"pie\"}], \"scatter\": [{\"marker\": {\"colorbar\": {\"outlinewidth\": 0, \"ticks\": \"\"}}, \"type\": \"scatter\"}], \"scatter3d\": [{\"line\": {\"colorbar\": {\"outlinewidth\": 0, \"ticks\": \"\"}}, \"marker\": {\"colorbar\": {\"outlinewidth\": 0, \"ticks\": \"\"}}, \"type\": \"scatter3d\"}], \"scattercarpet\": [{\"marker\": {\"colorbar\": {\"outlinewidth\": 0, \"ticks\": \"\"}}, \"type\": \"scattercarpet\"}], \"scattergeo\": [{\"marker\": {\"colorbar\": {\"outlinewidth\": 0, \"ticks\": \"\"}}, \"type\": \"scattergeo\"}], \"scattergl\": [{\"marker\": {\"colorbar\": {\"outlinewidth\": 0, \"ticks\": \"\"}}, \"type\": \"scattergl\"}], \"scattermapbox\": [{\"marker\": {\"colorbar\": {\"outlinewidth\": 0, \"ticks\": \"\"}}, \"type\": \"scattermapbox\"}], \"scatterpolar\": [{\"marker\": {\"colorbar\": {\"outlinewidth\": 0, \"ticks\": \"\"}}, \"type\": \"scatterpolar\"}], \"scatterpolargl\": [{\"marker\": {\"colorbar\": {\"outlinewidth\": 0, \"ticks\": \"\"}}, \"type\": \"scatterpolargl\"}], \"scatterternary\": [{\"marker\": {\"colorbar\": {\"outlinewidth\": 0, \"ticks\": \"\"}}, \"type\": \"scatterternary\"}], \"surface\": [{\"colorbar\": {\"outlinewidth\": 0, \"ticks\": \"\"}, \"colorscale\": [[0.0, \"#0d0887\"], [0.1111111111111111, \"#46039f\"], [0.2222222222222222, \"#7201a8\"], [0.3333333333333333, \"#9c179e\"], [0.4444444444444444, \"#bd3786\"], [0.5555555555555556, \"#d8576b\"], [0.6666666666666666, \"#ed7953\"], [0.7777777777777778, \"#fb9f3a\"], [0.8888888888888888, \"#fdca26\"], [1.0, \"#f0f921\"]], \"type\": \"surface\"}], \"table\": [{\"cells\": {\"fill\": {\"color\": \"#EBF0F8\"}, \"line\": {\"color\": \"white\"}}, \"header\": {\"fill\": {\"color\": \"#C8D4E3\"}, \"line\": {\"color\": \"white\"}}, \"type\": \"table\"}]}, \"layout\": {\"annotationdefaults\": {\"arrowcolor\": \"#2a3f5f\", \"arrowhead\": 0, \"arrowwidth\": 1}, \"autotypenumbers\": \"strict\", \"coloraxis\": {\"colorbar\": {\"outlinewidth\": 0, \"ticks\": \"\"}}, \"colorscale\": {\"diverging\": [[0, \"#8e0152\"], [0.1, \"#c51b7d\"], [0.2, \"#de77ae\"], [0.3, \"#f1b6da\"], [0.4, \"#fde0ef\"], [0.5, \"#f7f7f7\"], [0.6, \"#e6f5d0\"], [0.7, \"#b8e186\"], [0.8, \"#7fbc41\"], [0.9, \"#4d9221\"], [1, \"#276419\"]], \"sequential\": [[0.0, \"#0d0887\"], [0.1111111111111111, \"#46039f\"], [0.2222222222222222, \"#7201a8\"], [0.3333333333333333, \"#9c179e\"], [0.4444444444444444, \"#bd3786\"], [0.5555555555555556, \"#d8576b\"], [0.6666666666666666, \"#ed7953\"], [0.7777777777777778, \"#fb9f3a\"], [0.8888888888888888, \"#fdca26\"], [1.0, \"#f0f921\"]], \"sequentialminus\": [[0.0, \"#0d0887\"], [0.1111111111111111, \"#46039f\"], [0.2222222222222222, \"#7201a8\"], [0.3333333333333333, \"#9c179e\"], [0.4444444444444444, \"#bd3786\"], [0.5555555555555556, \"#d8576b\"], [0.6666666666666666, \"#ed7953\"], [0.7777777777777778, \"#fb9f3a\"], [0.8888888888888888, \"#fdca26\"], [1.0, \"#f0f921\"]]}, \"colorway\": [\"#636efa\", \"#EF553B\", \"#00cc96\", \"#ab63fa\", \"#FFA15A\", \"#19d3f3\", \"#FF6692\", \"#B6E880\", \"#FF97FF\", \"#FECB52\"], \"font\": {\"color\": \"#2a3f5f\"}, \"geo\": {\"bgcolor\": \"white\", \"lakecolor\": \"white\", \"landcolor\": \"#E5ECF6\", \"showlakes\": true, \"showland\": true, \"subunitcolor\": \"white\"}, \"hoverlabel\": {\"align\": \"left\"}, \"hovermode\": \"closest\", \"mapbox\": {\"style\": \"light\"}, \"paper_bgcolor\": \"white\", \"plot_bgcolor\": \"#E5ECF6\", \"polar\": {\"angularaxis\": {\"gridcolor\": \"white\", \"linecolor\": \"white\", \"ticks\": \"\"}, \"bgcolor\": \"#E5ECF6\", \"radialaxis\": {\"gridcolor\": \"white\", \"linecolor\": \"white\", \"ticks\": \"\"}}, \"scene\": {\"xaxis\": {\"backgroundcolor\": \"#E5ECF6\", \"gridcolor\": \"white\", \"gridwidth\": 2, \"linecolor\": \"white\", \"showbackground\": true, \"ticks\": \"\", \"zerolinecolor\": \"white\"}, \"yaxis\": {\"backgroundcolor\": \"#E5ECF6\", \"gridcolor\": \"white\", \"gridwidth\": 2, \"linecolor\": \"white\", \"showbackground\": true, \"ticks\": \"\", \"zerolinecolor\": \"white\"}, \"zaxis\": {\"backgroundcolor\": \"#E5ECF6\", \"gridcolor\": \"white\", \"gridwidth\": 2, \"linecolor\": \"white\", \"showbackground\": true, \"ticks\": \"\", \"zerolinecolor\": \"white\"}}, \"shapedefaults\": {\"line\": {\"color\": \"#2a3f5f\"}}, \"ternary\": {\"aaxis\": {\"gridcolor\": \"white\", \"linecolor\": \"white\", \"ticks\": \"\"}, \"baxis\": {\"gridcolor\": \"white\", \"linecolor\": \"white\", \"ticks\": \"\"}, \"bgcolor\": \"#E5ECF6\", \"caxis\": {\"gridcolor\": \"white\", \"linecolor\": \"white\", \"ticks\": \"\"}}, \"title\": {\"x\": 0.05}, \"xaxis\": {\"automargin\": true, \"gridcolor\": \"white\", \"linecolor\": \"white\", \"ticks\": \"\", \"title\": {\"standoff\": 15}, \"zerolinecolor\": \"white\", \"zerolinewidth\": 2}, \"yaxis\": {\"automargin\": true, \"gridcolor\": \"white\", \"linecolor\": \"white\", \"ticks\": \"\", \"title\": {\"standoff\": 15}, \"zerolinecolor\": \"white\", \"zerolinewidth\": 2}}}, \"title\": {\"text\": \"Country % of cancelations\"}},                        {\"responsive\": true}                    ).then(function(){\n",
       "                            \n",
       "var gd = document.getElementById('35f020b8-5502-4415-9138-16300662cfb6');\n",
       "var x = new MutationObserver(function (mutations, observer) {{\n",
       "        var display = window.getComputedStyle(gd).display;\n",
       "        if (!display || display === 'none') {{\n",
       "            console.log([gd, 'removed!']);\n",
       "            Plotly.purge(gd);\n",
       "            observer.disconnect();\n",
       "        }}\n",
       "}});\n",
       "\n",
       "// Listen for the removal of the full notebook cells\n",
       "var notebookContainer = gd.closest('#notebook-container');\n",
       "if (notebookContainer) {{\n",
       "    x.observe(notebookContainer, {childList: true});\n",
       "}}\n",
       "\n",
       "// Listen for the clearing of the current output cell\n",
       "var outputEl = gd.closest('.output');\n",
       "if (outputEl) {{\n",
       "    x.observe(outputEl, {childList: true});\n",
       "}}\n",
       "\n",
       "                        })                };                });            </script>        </div>"
      ]
     },
     "metadata": {},
     "output_type": "display_data"
    }
   ],
   "source": [
    "country_cancel = df['Country'].value_counts().rename(\"Occurrences\").to_frame()\n",
    "country_cancel['canceled'] = df[df['IsCanceled']==1]['Country'].value_counts()\n",
    "country_cancel = country_cancel.fillna(0)\n",
    "country_cancel['%canceled'] = country_cancel['canceled']/country_cancel['Occurrences']\n",
    "\n",
    "fig = px.choropleth(country_cancel, locations=country_cancel.index,\n",
    "                    color='%canceled', # lifeExp is a column of gapminder\n",
    "                    hover_name=country_cancel.index, # column to add to hover information\n",
    "                    color_continuous_scale=px.colors.sequential.Sunset,\n",
    "                   title='Country % of cancelations')\n",
    "fig.show()\n",
    "fig.write_image(\"map.png\")"
   ]
  },
  {
   "cell_type": "code",
   "execution_count": 57,
   "metadata": {},
   "outputs": [
    {
     "data": {
      "text/plain": [
       "PRT    0.648611\n",
       "CHN    0.523699\n",
       "BRA    0.406355\n",
       "ITA    0.378893\n",
       "IRL    0.330852\n",
       "GBR    0.293885\n",
       "ESP    0.287573\n",
       "USA    0.265142\n",
       "CHE    0.244015\n",
       "BEL    0.219113\n",
       "SWE    0.213889\n",
       "NLD    0.208176\n",
       "FRA    0.195706\n",
       "AUT    0.186135\n",
       "DEU    0.176200\n",
       "Name: %canceled, dtype: float64"
      ]
     },
     "execution_count": 57,
     "metadata": {},
     "output_type": "execute_result"
    }
   ],
   "source": [
    "#country_cancel['%canceled'].sort_values(ascending=False).head(30)\n",
    "a = country_cancel.sort_values(by=['Occurrences'],ascending=False).head(15)\n",
    "a['%canceled'].sort_values(ascending=False)\n"
   ]
  },
  {
   "cell_type": "code",
   "execution_count": 14,
   "metadata": {},
   "outputs": [],
   "source": [
    "def bar_charts_categorical(df, feature, target):\n",
    "    cont_tab = pd.crosstab(df[feature], df[target], margins = True)\n",
    "    categories = cont_tab.index[:-1]\n",
    "        \n",
    "    fig = plt.figure(figsize=(15, 5))\n",
    "    \n",
    "    plt.subplot(121)\n",
    "    p1 = plt.bar(categories, cont_tab.iloc[:-1, 0].values, 0.55, color=\"gray\")\n",
    "    p2 = plt.bar(categories, cont_tab.iloc[:-1, 1].values, 0.55, bottom=cont_tab.iloc[:-1, 0], color=\"skyblue\")\n",
    "    plt.legend((p2[0], p1[0]), ('$y_i=1$', '$y_i=0$'))\n",
    "    plt.xticks(rotation='vertical')\n",
    "    plt.title(\"Frequency bar chart\")\n",
    "    plt.xlabel(feature)\n",
    "    plt.ylabel(\"$Frequency$\")\n",
    "\n",
    "    # auxiliary data for 122\n",
    "    obs_pct = np.array([np.divide(cont_tab.iloc[:-1, 0].values, cont_tab.iloc[:-1, 2].values), \n",
    "                        np.divide(cont_tab.iloc[:-1, 1].values, cont_tab.iloc[:-1, 2].values)])\n",
    "      \n",
    "    plt.subplot(122)\n",
    "    p1 = plt.bar(categories, obs_pct[0], 0.55, color=\"gray\")\n",
    "    p2 = plt.bar(categories, obs_pct[1], 0.55, bottom=obs_pct[0], color=\"skyblue\")\n",
    "    plt.xticks(rotation='vertical')\n",
    "    plt.legend((p2[0], p1[0]), ('$y_i=1$', '$y_i=0$'))\n",
    "    plt.title(\"Proportion bar chart\")\n",
    "    plt.xlabel(feature)\n",
    "    plt.ylabel(\"$p$\")\n",
    "\n",
    "    plt.show()"
   ]
  },
  {
   "cell_type": "code",
   "execution_count": 19,
   "metadata": {},
   "outputs": [
    {
     "data": {
      "image/png": "[encoded data removed]",
      "text/plain": [
       "<Figure size 1080x360 with 2 Axes>"
      ]
     },
     "metadata": {
      "needs_background": "light"
     },
     "output_type": "display_data"
    }
   ],
   "source": [
    "bar_charts_categorical(df, 'Adults', 'IsCanceled')"
   ]
  },
  {
   "cell_type": "code",
   "execution_count": 42,
   "metadata": {},
   "outputs": [
    {
     "data": {
      "image/png": "[encoded data removed]",
      "text/plain": [
       "<Figure size 1080x360 with 2 Axes>"
      ]
     },
     "metadata": {
      "needs_background": "light"
     },
     "output_type": "display_data"
    }
   ],
   "source": [
    "bins_df = df[['IsCanceled','LeadTime']].copy()\n",
    "#bins_df.loc[(bins_df['ADR'] > 5000), 'ADR'] = 0\n",
    "\n",
    "min_value = bins_df['LeadTime'].min()\n",
    "max_value = bins_df['LeadTime'].max()\n",
    "\n",
    "bins = np.linspace(min_value,max_value,10)\n",
    "labels = [1,2,3,4,5,6,7,8,9]\n",
    "bins_df['LeadTime'] = pd.cut(bins_df['LeadTime'], bins=bins, labels=labels, include_lowest=True)\n",
    "\n",
    "bar_charts_categorical(bins_df, 'LeadTime', 'IsCanceled')"
   ]
  },
  {
   "cell_type": "code",
   "execution_count": 39,
   "metadata": {},
   "outputs": [
    {
     "data": {
      "image/png": "[encoded data removed]",
      "text/plain": [
       "<Figure size 1080x360 with 2 Axes>"
      ]
     },
     "metadata": {
      "needs_background": "light"
     },
     "output_type": "display_data"
    }
   ],
   "source": [
    "bar_charts_categorical(df, 'TotalOfSpecialRequests', 'IsCanceled')"
   ]
  },
  {
   "cell_type": "code",
   "execution_count": 40,
   "metadata": {},
   "outputs": [
    {
     "data": {
      "image/png": "[encoded data removed]",
      "text/plain": [
       "<Figure size 1080x360 with 2 Axes>"
      ]
     },
     "metadata": {
      "needs_background": "light"
     },
     "output_type": "display_data"
    }
   ],
   "source": [
    "bar_charts_categorical(df, 'DepositType', 'IsCanceled')"
   ]
  },
  {
   "cell_type": "code",
   "execution_count": 41,
   "metadata": {},
   "outputs": [
    {
     "data": {
      "image/png": "[encoded data removed]",
      "text/plain": [
       "<Figure size 1080x360 with 2 Axes>"
      ]
     },
     "metadata": {
      "needs_background": "light"
     },
     "output_type": "display_data"
    }
   ],
   "source": [
    "bar_charts_categorical(df, 'MarketSegment', 'IsCanceled')"
   ]
  },
  {
   "cell_type": "code",
   "execution_count": 44,
   "metadata": {},
   "outputs": [
    {
     "data": {
      "image/png": "[encoded data removed]",
      "text/plain": [
       "<Figure size 1080x360 with 2 Axes>"
      ]
     },
     "metadata": {
      "needs_background": "light"
     },
     "output_type": "display_data"
    }
   ],
   "source": [
    "bar_charts_categorical(df, 'ReservedRoomType', 'IsCanceled')"
   ]
  },
  {
   "cell_type": "code",
   "execution_count": null,
   "metadata": {},
   "outputs": [],
   "source": []
  }
 ],
 "metadata": {
  "kernelspec": {
   "display_name": "Python 3",
   "language": "python",
   "name": "python3"
  },
  "language_info": {
   "codemirror_mode": {
    "name": "ipython",
    "version": 3
   },
   "file_extension": ".py",
   "mimetype": "text/x-python",
   "name": "python",
   "nbconvert_exporter": "python",
   "pygments_lexer": "ipython3",
   "version": "3.7.4"
  }
 },
 "nbformat": 4,
 "nbformat_minor": 4
}
